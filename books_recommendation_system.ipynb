{
 "cells": [
  {
   "cell_type": "markdown",
   "metadata": {},
   "source": [
    "### Link to Dataset\n",
    "\n",
    "https://drive.google.com/open?id=1OHBfpUf-6nLjCbrrAEhq2wGfehd9g-MV"
   ]
  },
  {
   "cell_type": "code",
   "execution_count": 1,
   "metadata": {},
   "outputs": [],
   "source": [
    "#Making necesarry imports\n",
    "import pandas as pd\n",
    "import matplotlib.pyplot as plt\n",
    "import sklearn.metrics as metrics\n",
    "import numpy as np\n",
    "from sklearn.neighbors import NearestNeighbors\n",
    "from scipy.spatial.distance import correlation\n",
    "from sklearn.metrics.pairwise import pairwise_distances\n",
    "import ipywidgets as widgets\n",
    "from IPython.display import display, clear_output\n",
    "from contextlib import contextmanager\n",
    "import warnings\n",
    "warnings.filterwarnings('ignore')\n",
    "import numpy as np\n",
    "import os, sys\n",
    "import re\n",
    "import seaborn as sb"
   ]
  },
  {
   "cell_type": "code",
   "execution_count": 2,
   "metadata": {},
   "outputs": [
    {
     "name": "stderr",
     "output_type": "stream",
     "text": [
      "b'Skipping line 6452: expected 8 fields, saw 9\\nSkipping line 10824: expected 8 fields, saw 9\\nSkipping line 14769: expected 8 fields, saw 9\\nSkipping line 14936: expected 8 fields, saw 9\\nSkipping line 15690: expected 8 fields, saw 10\\nSkipping line 17320: expected 8 fields, saw 9\\nSkipping line 18095: expected 8 fields, saw 9\\nSkipping line 28443: expected 8 fields, saw 9\\nSkipping line 33098: expected 8 fields, saw 9\\nSkipping line 36394: expected 8 fields, saw 12\\nSkipping line 42628: expected 8 fields, saw 9\\nSkipping line 43667: expected 8 fields, saw 10\\nSkipping line 51751: expected 8 fields, saw 9\\nSkipping line 52174: expected 8 fields, saw 9\\nSkipping line 56901: expected 8 fields, saw 10\\nSkipping line 58600: expected 8 fields, saw 10\\nSkipping line 60739: expected 8 fields, saw 10\\n'\n",
      "b'Skipping line 65756: expected 8 fields, saw 9\\nSkipping line 67924: expected 8 fields, saw 9\\nSkipping line 68134: expected 8 fields, saw 9\\nSkipping line 70764: expected 8 fields, saw 11\\nSkipping line 72572: expected 8 fields, saw 12\\nSkipping line 74291: expected 8 fields, saw 9\\nSkipping line 77336: expected 8 fields, saw 9\\nSkipping line 79974: expected 8 fields, saw 9\\nSkipping line 88000: expected 8 fields, saw 10\\nSkipping line 88698: expected 8 fields, saw 9\\nSkipping line 88980: expected 8 fields, saw 9\\nSkipping line 90210: expected 8 fields, saw 12\\nSkipping line 92038: expected 8 fields, saw 11\\nSkipping line 93118: expected 8 fields, saw 9\\nSkipping line 94130: expected 8 fields, saw 9\\nSkipping line 95058: expected 8 fields, saw 9\\nSkipping line 102341: expected 8 fields, saw 9\\nSkipping line 104082: expected 8 fields, saw 9\\nSkipping line 104319: expected 8 fields, saw 10\\nSkipping line 105641: expected 8 fields, saw 9\\nSkipping line 106183: expected 8 fields, saw 9\\nSkipping line 108529: expected 8 fields, saw 10\\nSkipping line 108900: expected 8 fields, saw 9\\nSkipping line 109643: expected 8 fields, saw 9\\nSkipping line 114070: expected 8 fields, saw 10\\nSkipping line 116049: expected 8 fields, saw 9\\nSkipping line 119548: expected 8 fields, saw 12\\nSkipping line 121768: expected 8 fields, saw 9\\nSkipping line 123756: expected 8 fields, saw 11\\nSkipping line 127265: expected 8 fields, saw 9\\nSkipping line 128631: expected 8 fields, saw 10\\nSkipping line 130794: expected 8 fields, saw 11\\n'\n",
      "b'Skipping line 131589: expected 8 fields, saw 9\\nSkipping line 135121: expected 8 fields, saw 9\\nSkipping line 137613: expected 8 fields, saw 10\\nSkipping line 137965: expected 8 fields, saw 9\\nSkipping line 141433: expected 8 fields, saw 9\\nSkipping line 141437: expected 8 fields, saw 9\\nSkipping line 144058: expected 8 fields, saw 9\\nSkipping line 147368: expected 8 fields, saw 12\\nSkipping line 147902: expected 8 fields, saw 9\\nSkipping line 150789: expected 8 fields, saw 9\\nSkipping line 152662: expected 8 fields, saw 9\\nSkipping line 154679: expected 8 fields, saw 10\\nSkipping line 157128: expected 8 fields, saw 10\\nSkipping line 161889: expected 8 fields, saw 9\\nSkipping line 165306: expected 8 fields, saw 9\\nSkipping line 167342: expected 8 fields, saw 9\\nSkipping line 169037: expected 8 fields, saw 9\\nSkipping line 170503: expected 8 fields, saw 9\\nSkipping line 172648: expected 8 fields, saw 9\\nSkipping line 173779: expected 8 fields, saw 10\\nSkipping line 180189: expected 8 fields, saw 10\\nSkipping line 180664: expected 8 fields, saw 9\\nSkipping line 185738: expected 8 fields, saw 9\\nSkipping line 185882: expected 8 fields, saw 9\\nSkipping line 188934: expected 8 fields, saw 9\\nSkipping line 193160: expected 8 fields, saw 10\\nSkipping line 193583: expected 8 fields, saw 11\\nSkipping line 195879: expected 8 fields, saw 9\\nSkipping line 196652: expected 8 fields, saw 9\\n'\n",
      "b'Skipping line 197950: expected 8 fields, saw 9\\nSkipping line 198109: expected 8 fields, saw 9\\nSkipping line 207489: expected 8 fields, saw 9\\nSkipping line 208011: expected 8 fields, saw 10\\nSkipping line 208474: expected 8 fields, saw 9\\nSkipping line 209388: expected 8 fields, saw 9\\nSkipping line 211908: expected 8 fields, saw 10\\nSkipping line 212579: expected 8 fields, saw 9\\nSkipping line 214872: expected 8 fields, saw 10\\nSkipping line 216364: expected 8 fields, saw 9\\nSkipping line 219797: expected 8 fields, saw 9\\nSkipping line 219926: expected 8 fields, saw 10\\nSkipping line 220330: expected 8 fields, saw 9\\nSkipping line 220626: expected 8 fields, saw 9\\nSkipping line 221180: expected 8 fields, saw 10\\nSkipping line 221502: expected 8 fields, saw 9\\nSkipping line 227933: expected 8 fields, saw 11\\nSkipping line 228687: expected 8 fields, saw 10\\nSkipping line 228957: expected 8 fields, saw 10\\nSkipping line 229655: expected 8 fields, saw 9\\nSkipping line 232561: expected 8 fields, saw 9\\nSkipping line 238333: expected 8 fields, saw 10\\nSkipping line 238927: expected 8 fields, saw 9\\nSkipping line 239775: expected 8 fields, saw 9\\nSkipping line 241757: expected 8 fields, saw 10\\nSkipping line 244864: expected 8 fields, saw 13\\nSkipping line 245414: expected 8 fields, saw 9\\nSkipping line 245933: expected 8 fields, saw 9\\nSkipping line 246351: expected 8 fields, saw 9\\nSkipping line 251296: expected 8 fields, saw 9\\nSkipping line 251297: expected 8 fields, saw 9\\nSkipping line 253930: expected 8 fields, saw 9\\nSkipping line 259941: expected 8 fields, saw 9\\nSkipping line 260581: expected 8 fields, saw 9\\nSkipping line 261529: expected 8 fields, saw 9\\n'\n",
      "b'Skipping line 267207: expected 8 fields, saw 14\\nSkipping line 269121: expected 8 fields, saw 9\\n'\n"
     ]
    },
    {
     "data": {
      "text/plain": [
       "\"\\nratings = pd.read_csv('BX-Book-Ratings.csv', error_bad_lines=False, encoding='latin-1')\\nratings.columns = ['user_id', 'ISBN', 'book_rating'] \""
      ]
     },
     "execution_count": 2,
     "metadata": {},
     "output_type": "execute_result"
    }
   ],
   "source": [
    "books = pd.read_csv('BX-Books.csv', error_bad_lines=False, encoding='latin-1')\n",
    "books.columns = ['ISBN', 'book_title', 'book_author', 'year_of_publication', 'publisher', \n",
    "                 'image_url_s', 'image_url_m', 'image_url_l']\n",
    "'''\n",
    "ratings = pd.read_csv('BX-Book-Ratings.csv', error_bad_lines=False, encoding='latin-1')\n",
    "ratings.columns = ['user_id', 'ISBN', 'book_rating'] '''"
   ]
  },
  {
   "cell_type": "code",
   "execution_count": 3,
   "metadata": {},
   "outputs": [
    {
     "name": "stdout",
     "output_type": "stream",
     "text": [
      "Before\n",
      "\n",
      "ISBN                   0\n",
      "book_title             0\n",
      "book_author            1\n",
      "year_of_publication    0\n",
      "publisher              2\n",
      "image_url_s            0\n",
      "image_url_m            0\n",
      "image_url_l            3\n",
      "dtype: int64\n",
      "After\n",
      "\n",
      "ISBN                   0\n",
      "book_title             0\n",
      "book_author            0\n",
      "year_of_publication    0\n",
      "publisher              0\n",
      "image_url_s            0\n",
      "image_url_m            0\n",
      "image_url_l            0\n",
      "dtype: int64\n"
     ]
    }
   ],
   "source": [
    "# checking null cells in dataset\n",
    "\n",
    "print(\"Before\\n\")\n",
    "print(books.isnull().sum())\n",
    "\n",
    "# removing null rows in dataset\n",
    "\n",
    "books = books.dropna()\n",
    "print(\"After\\n\")\n",
    "print(books.isnull().sum())"
   ]
  },
  {
   "cell_type": "markdown",
   "metadata": {},
   "source": [
    "### Books Dataset"
   ]
  },
  {
   "cell_type": "code",
   "execution_count": 4,
   "metadata": {},
   "outputs": [
    {
     "data": {
      "text/html": [
       "<div>\n",
       "<style scoped>\n",
       "    .dataframe tbody tr th:only-of-type {\n",
       "        vertical-align: middle;\n",
       "    }\n",
       "\n",
       "    .dataframe tbody tr th {\n",
       "        vertical-align: top;\n",
       "    }\n",
       "\n",
       "    .dataframe thead th {\n",
       "        text-align: right;\n",
       "    }\n",
       "</style>\n",
       "<table border=\"1\" class=\"dataframe\">\n",
       "  <thead>\n",
       "    <tr style=\"text-align: right;\">\n",
       "      <th></th>\n",
       "      <th>ISBN</th>\n",
       "      <th>book_title</th>\n",
       "      <th>book_author</th>\n",
       "      <th>year_of_publication</th>\n",
       "      <th>publisher</th>\n",
       "      <th>image_url_s</th>\n",
       "      <th>image_url_m</th>\n",
       "      <th>image_url_l</th>\n",
       "    </tr>\n",
       "  </thead>\n",
       "  <tbody>\n",
       "    <tr>\n",
       "      <th>0</th>\n",
       "      <td>0195153448</td>\n",
       "      <td>Classical Mythology</td>\n",
       "      <td>Mark P. O. Morford</td>\n",
       "      <td>2002</td>\n",
       "      <td>Oxford University Press</td>\n",
       "      <td>http://images.amazon.com/images/P/0195153448.0...</td>\n",
       "      <td>http://images.amazon.com/images/P/0195153448.0...</td>\n",
       "      <td>http://images.amazon.com/images/P/0195153448.0...</td>\n",
       "    </tr>\n",
       "    <tr>\n",
       "      <th>1</th>\n",
       "      <td>0002005018</td>\n",
       "      <td>Clara Callan</td>\n",
       "      <td>Richard Bruce Wright</td>\n",
       "      <td>2001</td>\n",
       "      <td>HarperFlamingo Canada</td>\n",
       "      <td>http://images.amazon.com/images/P/0002005018.0...</td>\n",
       "      <td>http://images.amazon.com/images/P/0002005018.0...</td>\n",
       "      <td>http://images.amazon.com/images/P/0002005018.0...</td>\n",
       "    </tr>\n",
       "    <tr>\n",
       "      <th>2</th>\n",
       "      <td>0060973129</td>\n",
       "      <td>Decision in Normandy</td>\n",
       "      <td>Carlo D'Este</td>\n",
       "      <td>1991</td>\n",
       "      <td>HarperPerennial</td>\n",
       "      <td>http://images.amazon.com/images/P/0060973129.0...</td>\n",
       "      <td>http://images.amazon.com/images/P/0060973129.0...</td>\n",
       "      <td>http://images.amazon.com/images/P/0060973129.0...</td>\n",
       "    </tr>\n",
       "    <tr>\n",
       "      <th>3</th>\n",
       "      <td>0374157065</td>\n",
       "      <td>Flu: The Story of the Great Influenza Pandemic...</td>\n",
       "      <td>Gina Bari Kolata</td>\n",
       "      <td>1999</td>\n",
       "      <td>Farrar Straus Giroux</td>\n",
       "      <td>http://images.amazon.com/images/P/0374157065.0...</td>\n",
       "      <td>http://images.amazon.com/images/P/0374157065.0...</td>\n",
       "      <td>http://images.amazon.com/images/P/0374157065.0...</td>\n",
       "    </tr>\n",
       "    <tr>\n",
       "      <th>4</th>\n",
       "      <td>0393045218</td>\n",
       "      <td>The Mummies of Urumchi</td>\n",
       "      <td>E. J. W. Barber</td>\n",
       "      <td>1999</td>\n",
       "      <td>W. W. Norton &amp;amp, Company</td>\n",
       "      <td>http://images.amazon.com/images/P/0393045218.0...</td>\n",
       "      <td>http://images.amazon.com/images/P/0393045218.0...</td>\n",
       "      <td>http://images.amazon.com/images/P/0393045218.0...</td>\n",
       "    </tr>\n",
       "  </tbody>\n",
       "</table>\n",
       "</div>"
      ],
      "text/plain": [
       "         ISBN                                         book_title  \\\n",
       "0  0195153448                                Classical Mythology   \n",
       "1  0002005018                                       Clara Callan   \n",
       "2  0060973129                               Decision in Normandy   \n",
       "3  0374157065  Flu: The Story of the Great Influenza Pandemic...   \n",
       "4  0393045218                             The Mummies of Urumchi   \n",
       "\n",
       "            book_author year_of_publication                   publisher  \\\n",
       "0    Mark P. O. Morford                2002     Oxford University Press   \n",
       "1  Richard Bruce Wright                2001       HarperFlamingo Canada   \n",
       "2          Carlo D'Este                1991             HarperPerennial   \n",
       "3      Gina Bari Kolata                1999        Farrar Straus Giroux   \n",
       "4       E. J. W. Barber                1999  W. W. Norton &amp, Company   \n",
       "\n",
       "                                         image_url_s  \\\n",
       "0  http://images.amazon.com/images/P/0195153448.0...   \n",
       "1  http://images.amazon.com/images/P/0002005018.0...   \n",
       "2  http://images.amazon.com/images/P/0060973129.0...   \n",
       "3  http://images.amazon.com/images/P/0374157065.0...   \n",
       "4  http://images.amazon.com/images/P/0393045218.0...   \n",
       "\n",
       "                                         image_url_m  \\\n",
       "0  http://images.amazon.com/images/P/0195153448.0...   \n",
       "1  http://images.amazon.com/images/P/0002005018.0...   \n",
       "2  http://images.amazon.com/images/P/0060973129.0...   \n",
       "3  http://images.amazon.com/images/P/0374157065.0...   \n",
       "4  http://images.amazon.com/images/P/0393045218.0...   \n",
       "\n",
       "                                         image_url_l  \n",
       "0  http://images.amazon.com/images/P/0195153448.0...  \n",
       "1  http://images.amazon.com/images/P/0002005018.0...  \n",
       "2  http://images.amazon.com/images/P/0060973129.0...  \n",
       "3  http://images.amazon.com/images/P/0374157065.0...  \n",
       "4  http://images.amazon.com/images/P/0393045218.0...  "
      ]
     },
     "execution_count": 4,
     "metadata": {},
     "output_type": "execute_result"
    }
   ],
   "source": [
    "books.head()"
   ]
  },
  {
   "cell_type": "code",
   "execution_count": 5,
   "metadata": {},
   "outputs": [],
   "source": [
    "# axis = 0 (along row) and axis = 1 (along column)\n",
    "# Feature Selection - Remove Url as don't have any influence on our prediction\n",
    "\n",
    "\n",
    "books = books.drop(['image_url_s', 'image_url_m', 'image_url_l'], axis=1) "
   ]
  },
  {
   "cell_type": "code",
   "execution_count": 6,
   "metadata": {},
   "outputs": [
    {
     "data": {
      "text/plain": [
       "ISBN                   object\n",
       "book_title             object\n",
       "book_author            object\n",
       "year_of_publication    object\n",
       "publisher              object\n",
       "dtype: object"
      ]
     },
     "execution_count": 6,
     "metadata": {},
     "output_type": "execute_result"
    }
   ],
   "source": [
    "books.dtypes"
   ]
  },
  {
   "cell_type": "code",
   "execution_count": 7,
   "metadata": {},
   "outputs": [],
   "source": [
    "pd.set_option('display.max_colwidth', -1)"
   ]
  },
  {
   "cell_type": "code",
   "execution_count": 8,
   "metadata": {},
   "outputs": [
    {
     "data": {
      "text/plain": [
       "array([2002, 2001, 1991, 1999, 2000, 1993, 1996, 1988, 2004, 1998, 1994,\n",
       "       2003, 1997, 1983, 1979, 1995, 1982, 1985, 1992, 1986, 1978, 1980,\n",
       "       1952, 1987, 1990, 1981, 1989, 1984, 0, 1968, 1961, 1958, 1974,\n",
       "       1976, 1971, 1977, 1975, 1965, 1941, 1970, 1962, 1973, 1972, 1960,\n",
       "       1966, 1920, 1956, 1959, 1953, 1951, 1942, 1963, 1964, 1969, 1954,\n",
       "       1950, 1967, 2005, 1957, 1940, 1937, 1955, 1946, 1936, 1930, 2011,\n",
       "       1925, 1948, 1943, 1947, 1945, 1923, 2020, 1939, 1926, 1938, 2030,\n",
       "       1911, 1904, 1949, 1932, 1928, 1929, 1927, 1931, 1914, 2050, 1934,\n",
       "       1910, 1933, 1902, 1924, 1921, 1900, 2038, 2026, 1944, 1917, 1901,\n",
       "       2010, 1908, 1906, 1935, 1806, 2021, '1996', '1990', '1997', '0',\n",
       "       '1998', '1994', '1999', '2004', '1968', '1982', '1987', '1977',\n",
       "       '1992', '2000', '1984', '1995', '2002', '1988', '2001', '1991',\n",
       "       '2003', '1963', '1986', '1993', '1956', '1989', '1981', '1974',\n",
       "       '1983', '1970', '1985', '1978', '1973', '1980', '1979', '1976',\n",
       "       '1975', '1969', '1961', '1965', '1939', '1958', '1950', '1953',\n",
       "       '1966', '1971', '1959', '1972', '1955', '1957', '1945', '1960',\n",
       "       '1967', '1932', '1924', '1964', '2012', '1911', '1927', '1948',\n",
       "       '1962', '2006', '1952', '1940', '1951', '1931', '1954', '2005',\n",
       "       '1930', '1941', '1944', '1943', '1938', '1900', '1942', '1923',\n",
       "       '1920', '1933', '1909', '1946', '2008', '1378', '2030', '1936',\n",
       "       '1947', '2011', '2020', '1919', '1949', '1922', '1897', '2024',\n",
       "       '1376', '1926', '2037'], dtype=object)"
      ]
     },
     "execution_count": 8,
     "metadata": {},
     "output_type": "execute_result"
    }
   ],
   "source": [
    "'''\n",
    "    Cleaning year_of_publicarion series\n",
    "'''\n",
    "\n",
    "books['year_of_publication'].unique()"
   ]
  },
  {
   "cell_type": "code",
   "execution_count": 9,
   "metadata": {
    "scrolled": true
   },
   "outputs": [
    {
     "data": {
      "text/plain": [
       "[0,\n",
       " 1376,\n",
       " 1378,\n",
       " 1806,\n",
       " 1897,\n",
       " 1900,\n",
       " 1901,\n",
       " 1902,\n",
       " 1904,\n",
       " 1906,\n",
       " 1908,\n",
       " 1909,\n",
       " 1910,\n",
       " 1911,\n",
       " 1914,\n",
       " 1917,\n",
       " 1919,\n",
       " 1920,\n",
       " 1921,\n",
       " 1922,\n",
       " 1923,\n",
       " 1924,\n",
       " 1925,\n",
       " 1926,\n",
       " 1927,\n",
       " 1928,\n",
       " 1929,\n",
       " 1930,\n",
       " 1931,\n",
       " 1932,\n",
       " 1933,\n",
       " 1934,\n",
       " 1935,\n",
       " 1936,\n",
       " 1937,\n",
       " 1938,\n",
       " 1939,\n",
       " 1940,\n",
       " 1941,\n",
       " 1942,\n",
       " 1943,\n",
       " 1944,\n",
       " 1945,\n",
       " 1946,\n",
       " 1947,\n",
       " 1948,\n",
       " 1949,\n",
       " 1950,\n",
       " 1951,\n",
       " 1952,\n",
       " 1953,\n",
       " 1954,\n",
       " 1955,\n",
       " 1956,\n",
       " 1957,\n",
       " 1958,\n",
       " 1959,\n",
       " 1960,\n",
       " 1961,\n",
       " 1962,\n",
       " 1963,\n",
       " 1964,\n",
       " 1965,\n",
       " 1966,\n",
       " 1967,\n",
       " 1968,\n",
       " 1969,\n",
       " 1970,\n",
       " 1971,\n",
       " 1972,\n",
       " 1973,\n",
       " 1974,\n",
       " 1975,\n",
       " 1976,\n",
       " 1977,\n",
       " 1978,\n",
       " 1979,\n",
       " 1980,\n",
       " 1981,\n",
       " 1982,\n",
       " 1983,\n",
       " 1984,\n",
       " 1985,\n",
       " 1986,\n",
       " 1987,\n",
       " 1988,\n",
       " 1989,\n",
       " 1990,\n",
       " 1991,\n",
       " 1992,\n",
       " 1993,\n",
       " 1994,\n",
       " 1995,\n",
       " 1996,\n",
       " 1997,\n",
       " 1998,\n",
       " 1999,\n",
       " 2000,\n",
       " 2001,\n",
       " 2002,\n",
       " 2003,\n",
       " 2004,\n",
       " 2005,\n",
       " 2006,\n",
       " 2008,\n",
       " 2010,\n",
       " 2011,\n",
       " 2012,\n",
       " 2020,\n",
       " 2021,\n",
       " 2024,\n",
       " 2026,\n",
       " 2030,\n",
       " 2037,\n",
       " 2038,\n",
       " 2050]"
      ]
     },
     "execution_count": 9,
     "metadata": {},
     "output_type": "execute_result"
    }
   ],
   "source": [
    "'''\n",
    "    PROBLEM 1) some values are string and some are int \n",
    "''' \n",
    "\n",
    "# books['year_of_publication'].dtypes (check type of series)\n",
    "\n",
    "books['year_of_publication']=pd.to_numeric(books.year_of_publication, errors= 'coerce')\n",
    "sorted(books['year_of_publication'].unique())"
   ]
  },
  {
   "cell_type": "code",
   "execution_count": 10,
   "metadata": {},
   "outputs": [
    {
     "name": "stdout",
     "output_type": "stream",
     "text": [
      "frequency of maximum year = 17621\n",
      "most frequently occuring year = 2002\n",
      "\n",
      "\n",
      "[1376, 1378, 1806, 1897, 1900, 1901, 1902, 1904, 1906, 1908, 1909, 1910, 1911, 1914, 1917, 1919, 1920, 1921, 1922, 1923, 1924, 1925, 1926, 1927, 1928, 1929, 1930, 1931, 1932, 1933, 1934, 1935, 1936, 1937, 1938, 1939, 1940, 1941, 1942, 1943, 1944, 1945, 1946, 1947, 1948, 1949, 1950, 1951, 1952, 1953, 1954, 1955, 1956, 1957, 1958, 1959, 1960, 1961, 1962, 1963, 1964, 1965, 1966, 1967, 1968, 1969, 1970, 1971, 1972, 1973, 1974, 1975, 1976, 1977, 1978, 1979, 1980, 1981, 1982, 1983, 1984, 1985, 1986, 1987, 1988, 1989, 1990, 1991, 1992, 1993, 1994, 1995, 1996, 1997, 1998, 1999, 2000, 2001, 2002, 2003, 2004, 2005, 2006, 2008, 2010, 2011, 2012, 2020, 2021, 2024, 2026, 2030, 2037, 2038, 2050]\n"
     ]
    }
   ],
   "source": [
    "''' \n",
    "    PROBLEM 2) year of publication is 0\n",
    "        M-1) Drop columns\n",
    "        M-2) Mean of Year (round off)\n",
    "        M-3) Frequency of Maximum occuring \n",
    "        M-4) Randomly assign a year\n",
    "'''\n",
    "\n",
    "# finding the most frequent value\n",
    "\n",
    "print(\"frequency of maximum year = %d\" % books['year_of_publication'].value_counts().max())\n",
    "print(\"most frequently occuring year = %d\\n\\n\"%books['year_of_publication'].value_counts().idxmax())\n",
    "\n",
    "# replacing '0' with most frequent number\n",
    "\n",
    "books['year_of_publication'].replace(0, books['year_of_publication'].value_counts().idxmax(), inplace=True)\n",
    "print(sorted(books['year_of_publication'].unique()))"
   ]
  },
  {
   "cell_type": "code",
   "execution_count": 11,
   "metadata": {},
   "outputs": [
    {
     "name": "stdout",
     "output_type": "stream",
     "text": [
      "[1376, 1378, 1806, 1897, 1900, 1901, 1902, 1904, 1906, 1908, 1909, 1910, 1911, 1914, 1917, 1919, 1920, 1921, 1922, 1923, 1924, 1925, 1926, 1927, 1928, 1929, 1930, 1931, 1932, 1933, 1934, 1935, 1936, 1937, 1938, 1939, 1940, 1941, 1942, 1943, 1944, 1945, 1946, 1947, 1948, 1949, 1950, 1951, 1952, 1953, 1954, 1955, 1956, 1957, 1958, 1959, 1960, 1961, 1962, 1963, 1964, 1965, 1966, 1967, 1968, 1969, 1970, 1971, 1972, 1973, 1974, 1975, 1976, 1977, 1978, 1979, 1980, 1981, 1982, 1983, 1984, 1985, 1986, 1987, 1988, 1989, 1990, 1991, 1992, 1993, 1994, 1995, 1996, 1997, 1998, 1999, 2000, 2001, 2002, 2003, 2004, 2005, 2006]\n"
     ]
    }
   ],
   "source": [
    "'''\n",
    "    PROBLEM 3) year of publication is greater than 2006, which cannot be possible since dataset is till year 2006\n",
    "'''\n",
    "\n",
    "# Replacing greater values with mean value\n",
    "\n",
    "#books['year_of_publication'].replace(books.loc[books['year_of_publication']>2018,'year_of_publication'], 2018, inplace=True)\n",
    "\n",
    "books.loc[(books.year_of_publication > 2006), 'year_of_publication']=np.NAN\n",
    "books.year_of_publication.fillna(round(books.year_of_publication.mean()), inplace=True)\n",
    "books.year_of_publication = books.year_of_publication.astype(np.int64)\n",
    "\n",
    "print(sorted(books['year_of_publication'].unique()))"
   ]
  },
  {
   "cell_type": "code",
   "execution_count": 12,
   "metadata": {},
   "outputs": [
    {
     "data": {
      "text/plain": [
       "'\\n    PROBLEM 4) ISBN invalid int (eg, 080652121X)\\n    \\n    books[\\'ISBN\\']=pd.to_numeric(books.ISBN, errors= \\'coerce\\')\\n\\n    #books = books[np.isinf(books[\"ISBN\"])]\\n    #books.ISBN.astype(np.int64)\\n    print(sorted(books[\\'ISBN\\']))\\n'"
      ]
     },
     "execution_count": 12,
     "metadata": {},
     "output_type": "execute_result"
    }
   ],
   "source": [
    "'''\n",
    "    PROBLEM 4) ISBN invalid int (eg, 080652121X)\n",
    "    \n",
    "    books['ISBN']=pd.to_numeric(books.ISBN, errors= 'coerce')\n",
    "\n",
    "    #books = books[np.isinf(books[\"ISBN\"])]\n",
    "    #books.ISBN.astype(np.int64)\n",
    "    print(sorted(books['ISBN']))\n",
    "'''"
   ]
  },
  {
   "cell_type": "markdown",
   "metadata": {},
   "source": [
    "### Users Dataset"
   ]
  },
  {
   "cell_type": "code",
   "execution_count": 13,
   "metadata": {},
   "outputs": [
    {
     "name": "stderr",
     "output_type": "stream",
     "text": [
      "b'Skipping line 269: expected 3 fields, saw 4\\nSkipping line 1104: expected 3 fields, saw 4\\nSkipping line 1274: expected 3 fields, saw 4\\nSkipping line 1696: expected 3 fields, saw 4\\nSkipping line 1703: expected 3 fields, saw 4\\nSkipping line 1999: expected 3 fields, saw 4\\nSkipping line 2300: expected 3 fields, saw 4\\nSkipping line 2450: expected 3 fields, saw 4\\nSkipping line 2577: expected 3 fields, saw 4\\nSkipping line 2665: expected 3 fields, saw 4\\nSkipping line 2713: expected 3 fields, saw 4\\nSkipping line 2728: expected 3 fields, saw 4\\nSkipping line 2818: expected 3 fields, saw 4\\nSkipping line 2870: expected 3 fields, saw 5\\nSkipping line 2939: expected 3 fields, saw 4\\nSkipping line 2997: expected 3 fields, saw 4\\nSkipping line 3403: expected 3 fields, saw 4\\nSkipping line 3934: expected 3 fields, saw 4\\nSkipping line 4341: expected 3 fields, saw 4\\nSkipping line 4445: expected 3 fields, saw 4\\nSkipping line 4640: expected 3 fields, saw 4\\nSkipping line 4756: expected 3 fields, saw 4\\nSkipping line 5112: expected 3 fields, saw 4\\nSkipping line 5210: expected 3 fields, saw 4\\nSkipping line 5420: expected 3 fields, saw 4\\nSkipping line 5533: expected 3 fields, saw 4\\nSkipping line 6416: expected 3 fields, saw 4\\nSkipping line 7146: expected 3 fields, saw 4\\nSkipping line 7861: expected 3 fields, saw 4\\nSkipping line 8430: expected 3 fields, saw 4\\nSkipping line 8518: expected 3 fields, saw 4\\nSkipping line 8611: expected 3 fields, saw 4\\nSkipping line 8675: expected 3 fields, saw 4\\nSkipping line 8725: expected 3 fields, saw 4\\nSkipping line 8876: expected 3 fields, saw 4\\nSkipping line 10046: expected 3 fields, saw 4\\nSkipping line 10277: expected 3 fields, saw 4\\nSkipping line 10724: expected 3 fields, saw 4\\nSkipping line 10743: expected 3 fields, saw 4\\nSkipping line 10872: expected 3 fields, saw 4\\nSkipping line 10883: expected 3 fields, saw 4\\nSkipping line 11469: expected 3 fields, saw 4\\nSkipping line 11977: expected 3 fields, saw 4\\nSkipping line 12036: expected 3 fields, saw 4\\nSkipping line 12985: expected 3 fields, saw 4\\nSkipping line 13942: expected 3 fields, saw 4\\nSkipping line 14066: expected 3 fields, saw 4\\nSkipping line 14649: expected 3 fields, saw 4\\nSkipping line 14962: expected 3 fields, saw 4\\nSkipping line 15283: expected 3 fields, saw 4\\nSkipping line 15973: expected 3 fields, saw 4\\nSkipping line 16915: expected 3 fields, saw 4\\nSkipping line 17239: expected 3 fields, saw 4\\nSkipping line 18018: expected 3 fields, saw 4\\nSkipping line 18303: expected 3 fields, saw 4\\nSkipping line 18582: expected 3 fields, saw 4\\nSkipping line 18757: expected 3 fields, saw 4\\nSkipping line 19479: expected 3 fields, saw 4\\nSkipping line 20044: expected 3 fields, saw 4\\nSkipping line 20132: expected 3 fields, saw 4\\nSkipping line 20406: expected 3 fields, saw 4\\nSkipping line 20423: expected 3 fields, saw 4\\nSkipping line 20610: expected 3 fields, saw 4\\nSkipping line 22160: expected 3 fields, saw 4\\nSkipping line 22286: expected 3 fields, saw 4\\nSkipping line 22636: expected 3 fields, saw 4\\nSkipping line 22647: expected 3 fields, saw 5\\nSkipping line 23398: expected 3 fields, saw 4\\nSkipping line 25342: expected 3 fields, saw 4\\nSkipping line 26062: expected 3 fields, saw 4\\nSkipping line 26895: expected 3 fields, saw 4\\nSkipping line 27044: expected 3 fields, saw 4\\nSkipping line 27555: expected 3 fields, saw 4\\nSkipping line 27736: expected 3 fields, saw 4\\nSkipping line 28599: expected 3 fields, saw 4\\nSkipping line 29253: expected 3 fields, saw 4\\nSkipping line 29311: expected 3 fields, saw 4\\nSkipping line 29533: expected 3 fields, saw 4\\nSkipping line 29684: expected 3 fields, saw 4\\nSkipping line 30230: expected 3 fields, saw 4\\nSkipping line 31604: expected 3 fields, saw 4\\nSkipping line 32122: expected 3 fields, saw 4\\nSkipping line 32421: expected 3 fields, saw 4\\nSkipping line 33977: expected 3 fields, saw 4\\nSkipping line 34213: expected 3 fields, saw 4\\nSkipping line 34883: expected 3 fields, saw 4\\nSkipping line 35599: expected 3 fields, saw 4\\nSkipping line 36007: expected 3 fields, saw 4\\nSkipping line 36331: expected 3 fields, saw 4\\nSkipping line 36655: expected 3 fields, saw 4\\nSkipping line 37016: expected 3 fields, saw 4\\nSkipping line 37284: expected 3 fields, saw 4\\nSkipping line 37302: expected 3 fields, saw 4\\nSkipping line 38156: expected 3 fields, saw 4\\nSkipping line 38728: expected 3 fields, saw 4\\nSkipping line 38773: expected 3 fields, saw 4\\nSkipping line 39131: expected 3 fields, saw 4\\nSkipping line 39432: expected 3 fields, saw 4\\nSkipping line 39773: expected 3 fields, saw 4\\nSkipping line 39805: expected 3 fields, saw 4\\nSkipping line 39820: expected 3 fields, saw 4\\nSkipping line 39957: expected 3 fields, saw 4\\nSkipping line 40653: expected 3 fields, saw 4\\nSkipping line 41163: expected 3 fields, saw 4\\nSkipping line 41614: expected 3 fields, saw 4\\nSkipping line 42603: expected 3 fields, saw 4\\nSkipping line 43681: expected 3 fields, saw 4\\nSkipping line 46510: expected 3 fields, saw 4\\nSkipping line 46562: expected 3 fields, saw 4\\nSkipping line 47272: expected 3 fields, saw 4\\nSkipping line 48581: expected 3 fields, saw 4\\nSkipping line 48632: expected 3 fields, saw 4\\nSkipping line 48888: expected 3 fields, saw 4\\nSkipping line 48894: expected 3 fields, saw 4\\nSkipping line 49003: expected 3 fields, saw 4\\nSkipping line 49518: expected 3 fields, saw 4\\nSkipping line 49536: expected 3 fields, saw 4\\nSkipping line 50474: expected 3 fields, saw 4\\nSkipping line 50989: expected 3 fields, saw 4\\nSkipping line 51056: expected 3 fields, saw 4\\nSkipping line 52819: expected 3 fields, saw 4\\nSkipping line 52847: expected 3 fields, saw 5\\nSkipping line 53187: expected 3 fields, saw 4\\nSkipping line 54109: expected 3 fields, saw 4\\nSkipping line 54885: expected 3 fields, saw 4\\nSkipping line 55210: expected 3 fields, saw 4\\nSkipping line 55679: expected 3 fields, saw 4\\nSkipping line 56015: expected 3 fields, saw 4\\nSkipping line 56218: expected 3 fields, saw 4\\nSkipping line 56331: expected 3 fields, saw 4\\nSkipping line 56939: expected 3 fields, saw 4\\nSkipping line 58504: expected 3 fields, saw 4\\nSkipping line 59765: expected 3 fields, saw 4\\nSkipping line 59773: expected 3 fields, saw 4\\nSkipping line 60957: expected 3 fields, saw 4\\nSkipping line 61940: expected 3 fields, saw 4\\nSkipping line 62384: expected 3 fields, saw 4\\nSkipping line 62852: expected 3 fields, saw 4\\nSkipping line 63601: expected 3 fields, saw 4\\nSkipping line 63613: expected 3 fields, saw 6\\nSkipping line 63634: expected 3 fields, saw 4\\nSkipping line 64130: expected 3 fields, saw 4\\nSkipping line 64187: expected 3 fields, saw 4\\nSkipping line 65668: expected 3 fields, saw 4\\nSkipping line 65870: expected 3 fields, saw 4\\nSkipping line 65897: expected 3 fields, saw 4\\nSkipping line 66290: expected 3 fields, saw 4\\nSkipping line 66508: expected 3 fields, saw 4\\nSkipping line 66865: expected 3 fields, saw 4\\nSkipping line 69341: expected 3 fields, saw 4\\nSkipping line 70304: expected 3 fields, saw 4\\nSkipping line 72128: expected 3 fields, saw 4\\nSkipping line 72245: expected 3 fields, saw 4\\nSkipping line 72297: expected 3 fields, saw 4\\nSkipping line 72397: expected 3 fields, saw 4\\nSkipping line 72592: expected 3 fields, saw 4\\nSkipping line 73225: expected 3 fields, saw 4\\nSkipping line 73942: expected 3 fields, saw 4\\nSkipping line 74790: expected 3 fields, saw 4\\nSkipping line 75325: expected 3 fields, saw 4\\nSkipping line 76436: expected 3 fields, saw 4\\nSkipping line 76518: expected 3 fields, saw 4\\nSkipping line 76752: expected 3 fields, saw 4\\nSkipping line 77024: expected 3 fields, saw 4\\nSkipping line 77591: expected 3 fields, saw 4\\nSkipping line 78688: expected 3 fields, saw 4\\nSkipping line 78839: expected 3 fields, saw 4\\nSkipping line 78965: expected 3 fields, saw 4\\nSkipping line 79143: expected 3 fields, saw 4\\nSkipping line 79385: expected 3 fields, saw 4\\nSkipping line 79467: expected 3 fields, saw 4\\nSkipping line 80169: expected 3 fields, saw 4\\nSkipping line 80339: expected 3 fields, saw 4\\nSkipping line 80501: expected 3 fields, saw 4\\nSkipping line 81720: expected 3 fields, saw 4\\nSkipping line 82533: expected 3 fields, saw 4\\nSkipping line 82589: expected 3 fields, saw 5\\nSkipping line 82745: expected 3 fields, saw 4\\nSkipping line 83100: expected 3 fields, saw 4\\nSkipping line 83368: expected 3 fields, saw 4\\nSkipping line 83520: expected 3 fields, saw 4\\nSkipping line 83720: expected 3 fields, saw 5\\nSkipping line 84300: expected 3 fields, saw 4\\nSkipping line 84361: expected 3 fields, saw 4\\nSkipping line 84859: expected 3 fields, saw 4\\nSkipping line 84863: expected 3 fields, saw 4\\nSkipping line 84984: expected 3 fields, saw 4\\nSkipping line 85642: expected 3 fields, saw 4\\nSkipping line 86906: expected 3 fields, saw 4\\nSkipping line 86932: expected 3 fields, saw 4\\nSkipping line 87027: expected 3 fields, saw 4\\nSkipping line 87181: expected 3 fields, saw 4\\nSkipping line 87232: expected 3 fields, saw 4\\nSkipping line 87315: expected 3 fields, saw 4\\nSkipping line 87555: expected 3 fields, saw 4\\nSkipping line 87786: expected 3 fields, saw 4\\nSkipping line 87788: expected 3 fields, saw 4\\nSkipping line 88259: expected 3 fields, saw 4\\nSkipping line 89247: expected 3 fields, saw 4\\nSkipping line 89545: expected 3 fields, saw 4\\nSkipping line 90260: expected 3 fields, saw 4\\nSkipping line 91511: expected 3 fields, saw 4\\nSkipping line 91698: expected 3 fields, saw 4\\nSkipping line 92528: expected 3 fields, saw 4\\nSkipping line 92926: expected 3 fields, saw 4\\nSkipping line 93058: expected 3 fields, saw 4\\nSkipping line 94804: expected 3 fields, saw 4\\nSkipping line 94868: expected 3 fields, saw 4\\nSkipping line 95212: expected 3 fields, saw 4\\nSkipping line 95276: expected 3 fields, saw 4\\nSkipping line 95321: expected 3 fields, saw 4\\nSkipping line 95538: expected 3 fields, saw 4\\nSkipping line 95781: expected 3 fields, saw 4\\nSkipping line 95872: expected 3 fields, saw 5\\nSkipping line 95969: expected 3 fields, saw 4\\nSkipping line 95986: expected 3 fields, saw 4\\nSkipping line 96094: expected 3 fields, saw 4\\nSkipping line 96103: expected 3 fields, saw 4\\nSkipping line 96466: expected 3 fields, saw 4\\nSkipping line 96780: expected 3 fields, saw 4\\nSkipping line 96937: expected 3 fields, saw 4\\nSkipping line 97120: expected 3 fields, saw 4\\nSkipping line 97356: expected 3 fields, saw 4\\nSkipping line 97721: expected 3 fields, saw 4\\nSkipping line 97890: expected 3 fields, saw 4\\nSkipping line 98581: expected 3 fields, saw 4\\nSkipping line 98694: expected 3 fields, saw 4\\nSkipping line 99124: expected 3 fields, saw 4\\nSkipping line 99979: expected 3 fields, saw 4\\nSkipping line 100172: expected 3 fields, saw 4\\nSkipping line 100179: expected 3 fields, saw 4\\nSkipping line 100643: expected 3 fields, saw 4\\nSkipping line 101073: expected 3 fields, saw 4\\nSkipping line 101450: expected 3 fields, saw 4\\nSkipping line 101534: expected 3 fields, saw 4\\nSkipping line 101775: expected 3 fields, saw 4\\nSkipping line 101812: expected 3 fields, saw 4\\nSkipping line 102566: expected 3 fields, saw 4\\nSkipping line 102601: expected 3 fields, saw 4\\nSkipping line 102742: expected 3 fields, saw 4\\nSkipping line 103496: expected 3 fields, saw 4\\nSkipping line 103604: expected 3 fields, saw 4\\nSkipping line 103809: expected 3 fields, saw 4\\nSkipping line 104032: expected 3 fields, saw 4\\nSkipping line 104089: expected 3 fields, saw 4\\nSkipping line 104191: expected 3 fields, saw 4\\nSkipping line 104213: expected 3 fields, saw 4\\nSkipping line 104318: expected 3 fields, saw 4\\nSkipping line 104794: expected 3 fields, saw 4\\nSkipping line 104884: expected 3 fields, saw 4\\nSkipping line 104997: expected 3 fields, saw 4\\nSkipping line 105064: expected 3 fields, saw 4\\nSkipping line 105394: expected 3 fields, saw 4\\nSkipping line 106030: expected 3 fields, saw 4\\nSkipping line 106709: expected 3 fields, saw 4\\nSkipping line 107028: expected 3 fields, saw 4\\nSkipping line 107555: expected 3 fields, saw 4\\nSkipping line 107740: expected 3 fields, saw 4\\nSkipping line 108062: expected 3 fields, saw 4\\nSkipping line 108301: expected 3 fields, saw 4\\nSkipping line 109297: expected 3 fields, saw 4\\nSkipping line 109373: expected 3 fields, saw 4\\nSkipping line 109493: expected 3 fields, saw 4\\nSkipping line 111186: expected 3 fields, saw 4\\nSkipping line 112056: expected 3 fields, saw 4\\nSkipping line 112723: expected 3 fields, saw 4\\nSkipping line 113549: expected 3 fields, saw 4\\nSkipping line 114085: expected 3 fields, saw 4\\nSkipping line 114130: expected 3 fields, saw 4\\nSkipping line 115216: expected 3 fields, saw 4\\nSkipping line 116550: expected 3 fields, saw 4\\nSkipping line 116799: expected 3 fields, saw 4\\nSkipping line 116990: expected 3 fields, saw 4\\nSkipping line 117157: expected 3 fields, saw 4\\nSkipping line 118107: expected 3 fields, saw 4\\nSkipping line 118236: expected 3 fields, saw 4\\nSkipping line 118243: expected 3 fields, saw 4\\nSkipping line 118312: expected 3 fields, saw 4\\nSkipping line 118511: expected 3 fields, saw 4\\nSkipping line 118601: expected 3 fields, saw 4\\nSkipping line 119008: expected 3 fields, saw 4\\nSkipping line 119306: expected 3 fields, saw 4\\nSkipping line 119626: expected 3 fields, saw 4\\nSkipping line 119743: expected 3 fields, saw 4\\nSkipping line 119804: expected 3 fields, saw 4\\nSkipping line 120105: expected 3 fields, saw 4\\nSkipping line 120242: expected 3 fields, saw 4\\nSkipping line 120255: expected 3 fields, saw 4\\nSkipping line 120497: expected 3 fields, saw 4\\nSkipping line 121903: expected 3 fields, saw 5\\nSkipping line 122035: expected 3 fields, saw 4\\nSkipping line 122065: expected 3 fields, saw 4\\nSkipping line 122343: expected 3 fields, saw 4\\nSkipping line 122936: expected 3 fields, saw 4\\nSkipping line 124169: expected 3 fields, saw 4\\nSkipping line 124491: expected 3 fields, saw 4\\nSkipping line 124845: expected 3 fields, saw 4\\nSkipping line 124912: expected 3 fields, saw 4\\nSkipping line 125320: expected 3 fields, saw 4\\nSkipping line 125368: expected 3 fields, saw 4\\nSkipping line 125414: expected 3 fields, saw 4\\nSkipping line 125768: expected 3 fields, saw 4\\nSkipping line 125819: expected 3 fields, saw 4\\nSkipping line 126571: expected 3 fields, saw 4\\nSkipping line 126771: expected 3 fields, saw 4\\nSkipping line 126890: expected 3 fields, saw 4\\nSkipping line 127697: expected 3 fields, saw 4\\nSkipping line 127962: expected 3 fields, saw 4\\nSkipping line 130720: expected 3 fields, saw 4\\nSkipping line 130892: expected 3 fields, saw 4\\nSkipping line 131288: expected 3 fields, saw 4\\nSkipping line 131310: expected 3 fields, saw 4\\nSkipping line 131585: expected 3 fields, saw 4\\nSkipping line 131813: expected 3 fields, saw 4\\nSkipping line 132391: expected 3 fields, saw 4\\nSkipping line 132996: expected 3 fields, saw 4\\nSkipping line 133880: expected 3 fields, saw 4\\nSkipping line 134516: expected 3 fields, saw 4\\nSkipping line 134606: expected 3 fields, saw 4\\nSkipping line 136490: expected 3 fields, saw 4\\nSkipping line 136699: expected 3 fields, saw 4\\nSkipping line 136846: expected 3 fields, saw 4\\nSkipping line 136881: expected 3 fields, saw 4\\nSkipping line 137245: expected 3 fields, saw 4\\nSkipping line 137484: expected 3 fields, saw 4\\nSkipping line 138480: expected 3 fields, saw 4\\nSkipping line 138537: expected 3 fields, saw 4\\nSkipping line 138835: expected 3 fields, saw 4\\nSkipping line 140112: expected 3 fields, saw 4\\nSkipping line 140371: expected 3 fields, saw 4\\nSkipping line 140978: expected 3 fields, saw 4\\nSkipping line 141223: expected 3 fields, saw 4\\nSkipping line 141822: expected 3 fields, saw 4\\nSkipping line 142166: expected 3 fields, saw 4\\nSkipping line 142207: expected 3 fields, saw 4\\nSkipping line 142358: expected 3 fields, saw 4\\nSkipping line 142486: expected 3 fields, saw 4\\nSkipping line 143064: expected 3 fields, saw 4\\nSkipping line 143476: expected 3 fields, saw 4\\nSkipping line 143921: expected 3 fields, saw 4\\nSkipping line 144095: expected 3 fields, saw 4\\nSkipping line 145407: expected 3 fields, saw 4\\nSkipping line 145557: expected 3 fields, saw 4\\nSkipping line 146101: expected 3 fields, saw 4\\nSkipping line 147048: expected 3 fields, saw 4\\nSkipping line 147078: expected 3 fields, saw 4\\nSkipping line 147278: expected 3 fields, saw 4\\nSkipping line 148211: expected 3 fields, saw 4\\nSkipping line 149814: expected 3 fields, saw 4\\nSkipping line 150429: expected 3 fields, saw 4\\nSkipping line 150721: expected 3 fields, saw 4\\nSkipping line 151444: expected 3 fields, saw 4\\nSkipping line 152118: expected 3 fields, saw 4\\nSkipping line 153122: expected 3 fields, saw 4\\nSkipping line 153423: expected 3 fields, saw 4\\nSkipping line 153733: expected 3 fields, saw 4\\nSkipping line 154105: expected 3 fields, saw 4\\nSkipping line 154141: expected 3 fields, saw 4\\nSkipping line 154274: expected 3 fields, saw 4\\nSkipping line 154352: expected 3 fields, saw 4\\nSkipping line 154492: expected 3 fields, saw 4\\nSkipping line 154964: expected 3 fields, saw 4\\nSkipping line 155139: expected 3 fields, saw 4\\nSkipping line 155574: expected 3 fields, saw 4\\nSkipping line 155610: expected 3 fields, saw 4\\nSkipping line 155899: expected 3 fields, saw 4\\nSkipping line 155974: expected 3 fields, saw 4\\nSkipping line 156467: expected 3 fields, saw 4\\nSkipping line 156612: expected 3 fields, saw 4\\nSkipping line 156615: expected 3 fields, saw 4\\nSkipping line 156723: expected 3 fields, saw 4\\nSkipping line 156776: expected 3 fields, saw 4\\nSkipping line 156853: expected 3 fields, saw 4\\nSkipping line 156879: expected 3 fields, saw 4\\nSkipping line 156894: expected 3 fields, saw 4\\nSkipping line 156912: expected 3 fields, saw 4\\nSkipping line 157521: expected 3 fields, saw 4\\nSkipping line 157552: expected 3 fields, saw 4\\nSkipping line 157889: expected 3 fields, saw 4\\nSkipping line 158158: expected 3 fields, saw 4\\nSkipping line 159076: expected 3 fields, saw 4\\nSkipping line 159178: expected 3 fields, saw 4\\nSkipping line 159427: expected 3 fields, saw 4\\nSkipping line 159435: expected 3 fields, saw 4\\nSkipping line 160135: expected 3 fields, saw 4\\nSkipping line 160329: expected 3 fields, saw 4\\nSkipping line 160501: expected 3 fields, saw 4\\nSkipping line 161010: expected 3 fields, saw 4\\nSkipping line 161053: expected 3 fields, saw 4\\nSkipping line 161604: expected 3 fields, saw 4\\nSkipping line 163220: expected 3 fields, saw 4\\nSkipping line 163586: expected 3 fields, saw 4\\nSkipping line 163974: expected 3 fields, saw 4\\nSkipping line 164118: expected 3 fields, saw 4\\nSkipping line 164321: expected 3 fields, saw 4\\nSkipping line 164496: expected 3 fields, saw 4\\nSkipping line 164583: expected 3 fields, saw 4\\nSkipping line 164833: expected 3 fields, saw 4\\nSkipping line 165120: expected 3 fields, saw 4\\nSkipping line 165328: expected 3 fields, saw 4\\nSkipping line 165332: expected 3 fields, saw 4\\nSkipping line 165525: expected 3 fields, saw 4\\nSkipping line 166341: expected 3 fields, saw 4\\nSkipping line 166346: expected 3 fields, saw 4\\nSkipping line 166636: expected 3 fields, saw 4\\nSkipping line 166687: expected 3 fields, saw 4\\nSkipping line 166761: expected 3 fields, saw 4\\nSkipping line 167060: expected 3 fields, saw 4\\nSkipping line 167159: expected 3 fields, saw 4\\nSkipping line 167220: expected 3 fields, saw 4\\nSkipping line 168192: expected 3 fields, saw 4\\nSkipping line 169872: expected 3 fields, saw 4\\nSkipping line 170141: expected 3 fields, saw 4\\nSkipping line 171006: expected 3 fields, saw 4\\nSkipping line 171159: expected 3 fields, saw 4\\nSkipping line 171321: expected 3 fields, saw 4\\nSkipping line 171712: expected 3 fields, saw 4\\nSkipping line 172516: expected 3 fields, saw 4\\nSkipping line 175978: expected 3 fields, saw 5\\nSkipping line 176128: expected 3 fields, saw 4\\nSkipping line 176313: expected 3 fields, saw 4\\nSkipping line 177623: expected 3 fields, saw 4\\nSkipping line 177743: expected 3 fields, saw 4\\nSkipping line 178527: expected 3 fields, saw 4\\nSkipping line 178614: expected 3 fields, saw 4\\nSkipping line 178785: expected 3 fields, saw 4\\nSkipping line 179600: expected 3 fields, saw 4\\nSkipping line 179608: expected 3 fields, saw 4\\nSkipping line 179809: expected 3 fields, saw 4\\nSkipping line 179898: expected 3 fields, saw 4\\nSkipping line 180175: expected 3 fields, saw 4\\nSkipping line 180352: expected 3 fields, saw 4\\nSkipping line 180858: expected 3 fields, saw 4\\nSkipping line 181192: expected 3 fields, saw 4\\nSkipping line 181215: expected 3 fields, saw 4\\nSkipping line 182090: expected 3 fields, saw 4\\nSkipping line 182248: expected 3 fields, saw 4\\nSkipping line 182555: expected 3 fields, saw 4\\nSkipping line 182630: expected 3 fields, saw 5\\nSkipping line 182635: expected 3 fields, saw 4\\nSkipping line 182728: expected 3 fields, saw 4\\nSkipping line 182764: expected 3 fields, saw 4\\nSkipping line 182837: expected 3 fields, saw 4\\nSkipping line 183818: expected 3 fields, saw 4\\nSkipping line 183944: expected 3 fields, saw 4\\nSkipping line 185763: expected 3 fields, saw 4\\nSkipping line 186477: expected 3 fields, saw 5\\nSkipping line 186933: expected 3 fields, saw 4\\nSkipping line 187080: expected 3 fields, saw 4\\nSkipping line 188057: expected 3 fields, saw 4\\nSkipping line 188090: expected 3 fields, saw 4\\nSkipping line 188864: expected 3 fields, saw 4\\nSkipping line 189180: expected 3 fields, saw 4\\nSkipping line 189824: expected 3 fields, saw 4\\nSkipping line 190273: expected 3 fields, saw 4\\nSkipping line 190404: expected 3 fields, saw 4\\nSkipping line 191185: expected 3 fields, saw 4\\nSkipping line 191658: expected 3 fields, saw 4\\nSkipping line 191758: expected 3 fields, saw 4\\nSkipping line 192996: expected 3 fields, saw 4\\nSkipping line 193168: expected 3 fields, saw 4\\nSkipping line 193356: expected 3 fields, saw 4\\nSkipping line 193665: expected 3 fields, saw 4\\nSkipping line 194025: expected 3 fields, saw 4\\nSkipping line 194126: expected 3 fields, saw 4\\nSkipping line 194138: expected 3 fields, saw 4\\nSkipping line 194600: expected 3 fields, saw 4\\nSkipping line 194796: expected 3 fields, saw 4\\nSkipping line 194892: expected 3 fields, saw 4\\nSkipping line 194902: expected 3 fields, saw 4\\nSkipping line 195391: expected 3 fields, saw 4\\nSkipping line 195699: expected 3 fields, saw 4\\nSkipping line 195802: expected 3 fields, saw 4\\nSkipping line 195843: expected 3 fields, saw 4\\nSkipping line 196948: expected 3 fields, saw 4\\nSkipping line 197597: expected 3 fields, saw 4\\nSkipping line 197612: expected 3 fields, saw 4\\nSkipping line 198317: expected 3 fields, saw 4\\nSkipping line 198388: expected 3 fields, saw 4\\nSkipping line 199082: expected 3 fields, saw 4\\nSkipping line 199433: expected 3 fields, saw 4\\nSkipping line 199441: expected 3 fields, saw 4\\nSkipping line 199850: expected 3 fields, saw 4\\nSkipping line 200635: expected 3 fields, saw 4\\nSkipping line 200730: expected 3 fields, saw 4\\nSkipping line 200913: expected 3 fields, saw 4\\nSkipping line 201091: expected 3 fields, saw 4\\nSkipping line 202165: expected 3 fields, saw 4\\nSkipping line 202175: expected 3 fields, saw 4\\nSkipping line 202228: expected 3 fields, saw 4\\nSkipping line 202896: expected 3 fields, saw 4\\nSkipping line 203837: expected 3 fields, saw 4\\nSkipping line 204575: expected 3 fields, saw 4\\nSkipping line 205817: expected 3 fields, saw 4\\nSkipping line 206369: expected 3 fields, saw 4\\nSkipping line 207013: expected 3 fields, saw 4\\nSkipping line 207043: expected 3 fields, saw 4\\nSkipping line 208038: expected 3 fields, saw 4\\nSkipping line 208999: expected 3 fields, saw 4\\nSkipping line 210048: expected 3 fields, saw 4\\nSkipping line 212077: expected 3 fields, saw 4\\nSkipping line 214263: expected 3 fields, saw 4\\nSkipping line 214490: expected 3 fields, saw 4\\nSkipping line 214975: expected 3 fields, saw 4\\nSkipping line 215552: expected 3 fields, saw 4\\nSkipping line 215954: expected 3 fields, saw 4\\nSkipping line 216364: expected 3 fields, saw 4\\nSkipping line 216540: expected 3 fields, saw 4\\nSkipping line 216733: expected 3 fields, saw 4\\nSkipping line 217670: expected 3 fields, saw 4\\nSkipping line 218113: expected 3 fields, saw 4\\nSkipping line 218934: expected 3 fields, saw 4\\nSkipping line 219007: expected 3 fields, saw 4\\nSkipping line 219242: expected 3 fields, saw 4\\nSkipping line 219503: expected 3 fields, saw 4\\nSkipping line 219743: expected 3 fields, saw 4\\nSkipping line 220210: expected 3 fields, saw 4\\nSkipping line 220389: expected 3 fields, saw 4\\nSkipping line 220706: expected 3 fields, saw 4\\nSkipping line 220969: expected 3 fields, saw 4\\nSkipping line 221344: expected 3 fields, saw 4\\nSkipping line 221346: expected 3 fields, saw 4\\nSkipping line 222893: expected 3 fields, saw 4\\nSkipping line 223737: expected 3 fields, saw 4\\nSkipping line 224301: expected 3 fields, saw 4\\nSkipping line 224388: expected 3 fields, saw 4\\nSkipping line 225321: expected 3 fields, saw 4\\nSkipping line 225422: expected 3 fields, saw 4\\nSkipping line 227008: expected 3 fields, saw 5\\nSkipping line 227768: expected 3 fields, saw 4\\nSkipping line 227941: expected 3 fields, saw 4\\nSkipping line 228016: expected 3 fields, saw 4\\nSkipping line 228741: expected 3 fields, saw 4\\nSkipping line 228868: expected 3 fields, saw 4\\nSkipping line 228997: expected 3 fields, saw 4\\nSkipping line 229209: expected 3 fields, saw 4\\nSkipping line 229800: expected 3 fields, saw 4\\nSkipping line 229818: expected 3 fields, saw 4\\nSkipping line 230448: expected 3 fields, saw 4\\nSkipping line 230646: expected 3 fields, saw 4\\nSkipping line 230673: expected 3 fields, saw 4\\nSkipping line 230674: expected 3 fields, saw 5\\nSkipping line 230859: expected 3 fields, saw 4\\nSkipping line 231012: expected 3 fields, saw 4\\nSkipping line 231732: expected 3 fields, saw 4\\nSkipping line 231878: expected 3 fields, saw 4\\nSkipping line 232655: expected 3 fields, saw 4\\nSkipping line 232817: expected 3 fields, saw 4\\nSkipping line 232831: expected 3 fields, saw 4\\nSkipping line 233291: expected 3 fields, saw 4\\nSkipping line 233292: expected 3 fields, saw 4\\nSkipping line 234371: expected 3 fields, saw 4\\nSkipping line 234423: expected 3 fields, saw 4\\nSkipping line 234630: expected 3 fields, saw 4\\nSkipping line 234702: expected 3 fields, saw 4\\nSkipping line 234720: expected 3 fields, saw 4\\nSkipping line 234848: expected 3 fields, saw 4\\nSkipping line 234951: expected 3 fields, saw 4\\nSkipping line 235309: expected 3 fields, saw 4\\nSkipping line 237129: expected 3 fields, saw 4\\nSkipping line 237132: expected 3 fields, saw 4\\nSkipping line 237509: expected 3 fields, saw 4\\nSkipping line 240148: expected 3 fields, saw 4\\nSkipping line 240182: expected 3 fields, saw 4\\nSkipping line 240401: expected 3 fields, saw 4\\nSkipping line 240886: expected 3 fields, saw 4\\nSkipping line 241378: expected 3 fields, saw 4\\nSkipping line 241426: expected 3 fields, saw 4\\nSkipping line 241602: expected 3 fields, saw 4\\nSkipping line 242365: expected 3 fields, saw 4\\nSkipping line 242670: expected 3 fields, saw 4\\nSkipping line 243456: expected 3 fields, saw 4\\nSkipping line 243463: expected 3 fields, saw 4\\nSkipping line 243583: expected 3 fields, saw 4\\nSkipping line 243746: expected 3 fields, saw 4\\nSkipping line 243804: expected 3 fields, saw 4\\nSkipping line 244163: expected 3 fields, saw 4\\nSkipping line 244246: expected 3 fields, saw 5\\nSkipping line 246018: expected 3 fields, saw 4\\nSkipping line 246468: expected 3 fields, saw 4\\nSkipping line 246596: expected 3 fields, saw 4\\nSkipping line 246662: expected 3 fields, saw 4\\nSkipping line 246848: expected 3 fields, saw 5\\nSkipping line 247482: expected 3 fields, saw 4\\nSkipping line 247966: expected 3 fields, saw 4\\nSkipping line 248718: expected 3 fields, saw 4\\nSkipping line 249034: expected 3 fields, saw 4\\nSkipping line 249080: expected 3 fields, saw 4\\nSkipping line 249161: expected 3 fields, saw 4\\nSkipping line 249458: expected 3 fields, saw 4\\nSkipping line 249678: expected 3 fields, saw 4\\nSkipping line 249739: expected 3 fields, saw 4\\nSkipping line 249853: expected 3 fields, saw 4\\nSkipping line 250787: expected 3 fields, saw 4\\nSkipping line 252058: expected 3 fields, saw 4\\nSkipping line 252376: expected 3 fields, saw 4\\nSkipping line 252504: expected 3 fields, saw 4\\nSkipping line 252577: expected 3 fields, saw 4\\nSkipping line 252664: expected 3 fields, saw 4\\nSkipping line 252849: expected 3 fields, saw 4\\nSkipping line 252883: expected 3 fields, saw 4\\nSkipping line 252926: expected 3 fields, saw 4\\nSkipping line 252993: expected 3 fields, saw 4\\nSkipping line 253049: expected 3 fields, saw 4\\nSkipping line 253344: expected 3 fields, saw 4\\nSkipping line 253364: expected 3 fields, saw 4\\nSkipping line 254099: expected 3 fields, saw 4\\nSkipping line 255251: expected 3 fields, saw 4\\nSkipping line 255394: expected 3 fields, saw 4\\nSkipping line 255433: expected 3 fields, saw 4\\nSkipping line 255450: expected 3 fields, saw 4\\nSkipping line 255973: expected 3 fields, saw 4\\nSkipping line 256192: expected 3 fields, saw 4\\nSkipping line 257002: expected 3 fields, saw 4\\nSkipping line 257367: expected 3 fields, saw 4\\nSkipping line 257370: expected 3 fields, saw 4\\nSkipping line 257876: expected 3 fields, saw 4\\nSkipping line 257928: expected 3 fields, saw 4\\nSkipping line 258046: expected 3 fields, saw 4\\nSkipping line 258064: expected 3 fields, saw 4\\nSkipping line 258588: expected 3 fields, saw 4\\nSkipping line 258639: expected 3 fields, saw 4\\nSkipping line 258979: expected 3 fields, saw 4\\nSkipping line 259029: expected 3 fields, saw 4\\nSkipping line 259122: expected 3 fields, saw 4\\nSkipping line 259302: expected 3 fields, saw 4\\nSkipping line 259923: expected 3 fields, saw 4\\nSkipping line 260049: expected 3 fields, saw 4\\nSkipping line 260109: expected 3 fields, saw 4\\nSkipping line 260593: expected 3 fields, saw 4\\nSkipping line 261055: expected 3 fields, saw 4\\nSkipping line 261845: expected 3 fields, saw 4\\nSkipping line 262321: expected 3 fields, saw 4\\n'\n",
      "b'Skipping line 262781: expected 3 fields, saw 4\\nSkipping line 263381: expected 3 fields, saw 4\\nSkipping line 264125: expected 3 fields, saw 4\\nSkipping line 264357: expected 3 fields, saw 4\\nSkipping line 264429: expected 3 fields, saw 4\\nSkipping line 264490: expected 3 fields, saw 4\\nSkipping line 264802: expected 3 fields, saw 4\\nSkipping line 264906: expected 3 fields, saw 4\\nSkipping line 264985: expected 3 fields, saw 4\\nSkipping line 265210: expected 3 fields, saw 4\\nSkipping line 266195: expected 3 fields, saw 4\\nSkipping line 267495: expected 3 fields, saw 4\\nSkipping line 267719: expected 3 fields, saw 4\\nSkipping line 268787: expected 3 fields, saw 4\\nSkipping line 269598: expected 3 fields, saw 4\\nSkipping line 270352: expected 3 fields, saw 4\\nSkipping line 271255: expected 3 fields, saw 4\\nSkipping line 271319: expected 3 fields, saw 4\\nSkipping line 271701: expected 3 fields, saw 4\\nSkipping line 271920: expected 3 fields, saw 4\\nSkipping line 272027: expected 3 fields, saw 4\\nSkipping line 272387: expected 3 fields, saw 4\\nSkipping line 272709: expected 3 fields, saw 4\\nSkipping line 273126: expected 3 fields, saw 4\\nSkipping line 273243: expected 3 fields, saw 4\\nSkipping line 273467: expected 3 fields, saw 4\\nSkipping line 273591: expected 3 fields, saw 4\\nSkipping line 274525: expected 3 fields, saw 4\\nSkipping line 274923: expected 3 fields, saw 4\\nSkipping line 275657: expected 3 fields, saw 4\\nSkipping line 275683: expected 3 fields, saw 4\\nSkipping line 276417: expected 3 fields, saw 4\\nSkipping line 276581: expected 3 fields, saw 4\\nSkipping line 276604: expected 3 fields, saw 4\\nSkipping line 276613: expected 3 fields, saw 4\\nSkipping line 276897: expected 3 fields, saw 4\\nSkipping line 277121: expected 3 fields, saw 4\\nSkipping line 277718: expected 3 fields, saw 4\\nSkipping line 277743: expected 3 fields, saw 4\\nSkipping line 277855: expected 3 fields, saw 4\\nSkipping line 278133: expected 3 fields, saw 4\\nSkipping line 278338: expected 3 fields, saw 4\\nSkipping line 278494: expected 3 fields, saw 4\\n'\n"
     ]
    }
   ],
   "source": [
    "users = pd.read_csv('BX-Users.csv', error_bad_lines=False, encoding='latin-1')\n",
    "users.columns = ['user_id', 'location', 'age']"
   ]
  },
  {
   "cell_type": "code",
   "execution_count": 14,
   "metadata": {},
   "outputs": [
    {
     "name": "stdout",
     "output_type": "stream",
     "text": [
      "(278176, 3)\n",
      "user_id     int64 \n",
      "location    object\n",
      "age         object\n",
      "dtype: object\n",
      "   user_id                            location  age\n",
      "0  1        nyc, new york, usa                  NaN\n",
      "1  2        stockton, california, usa           18 \n",
      "2  3        moscow, yukon territory, russia     NaN\n",
      "3  4        porto, v.n.gaia, portugal           17 \n",
      "4  5        farnborough, hants, united kingdom  NaN\n"
     ]
    }
   ],
   "source": [
    "print(users.shape)\n",
    "print(users.dtypes)\n",
    "print(users.head())"
   ]
  },
  {
   "cell_type": "code",
   "execution_count": 15,
   "metadata": {},
   "outputs": [
    {
     "data": {
      "text/plain": [
       "user_id     0     \n",
       "location    0     \n",
       "age         110505\n",
       "dtype: int64"
      ]
     },
     "execution_count": 15,
     "metadata": {},
     "output_type": "execute_result"
    }
   ],
   "source": [
    "users.isnull().sum()"
   ]
  },
  {
   "cell_type": "code",
   "execution_count": 16,
   "metadata": {},
   "outputs": [
    {
     "name": "stdout",
     "output_type": "stream",
     "text": [
      "[nan, 0.0, 1.0, 2.0, 3.0, 4.0, 5.0, 6.0, 7.0, 8.0, 9.0, 10.0, 11.0, 12.0, 13.0, 14.0, 15.0, 16.0, 17.0, 18.0, 19.0, 20.0, 21.0, 22.0, 23.0, 24.0, 25.0, 26.0, 27.0, 28.0, 29.0, 30.0, 31.0, 32.0, 33.0, 34.0, 35.0, 36.0, 37.0, 38.0, 39.0, 40.0, 41.0, 42.0, 43.0, 44.0, 45.0, 46.0, 47.0, 48.0, 49.0, 50.0, 51.0, 52.0, 53.0, 54.0, 55.0, 56.0, 57.0, 58.0, 59.0, 60.0, 61.0, 62.0, 63.0, 64.0, 65.0, 66.0, 67.0, 68.0, 69.0, 70.0, 71.0, 72.0, 73.0, 74.0, 75.0, 76.0, 77.0, 78.0, 79.0, 80.0, 81.0, 82.0, 83.0, 84.0, 85.0, 86.0, 87.0, 88.0, 89.0, 90.0, 91.0, 92.0, 93.0, 94.0, 95.0, 96.0, 97.0, 98.0, 99.0, 100.0, 101.0, 102.0, 103.0, 104.0, 105.0, 106.0, 107.0, 108.0, 109.0, 110.0, 111.0, 113.0, 114.0, 115.0, 116.0, 118.0, 119.0, 123.0, 124.0, 127.0, 128.0, 132.0, 133.0, 136.0, 137.0, 138.0, 140.0, 141.0, 143.0, 146.0, 147.0, 148.0, 151.0, 152.0, 156.0, 157.0, 159.0, 162.0, 168.0, 172.0, 175.0, 183.0, 186.0, 189.0, 199.0, 200.0, 201.0, 204.0, 207.0, 208.0, 209.0, 210.0, 212.0, 219.0, 220.0, 223.0, 226.0, 228.0, 229.0, 230.0, 231.0, 237.0, 239.0, 244.0]\n"
     ]
    }
   ],
   "source": [
    "users.age = pd.to_numeric(users.age, errors=\"coerce\")\n",
    "print(sorted(users.age.unique()))"
   ]
  },
  {
   "cell_type": "code",
   "execution_count": 17,
   "metadata": {},
   "outputs": [
    {
     "name": "stdout",
     "output_type": "stream",
     "text": [
      "frequency of maximum age = 5664\n",
      "most frequently occuring age = 24\n",
      "\n",
      "\n",
      "[nan, 0.0, 1.0, 2.0, 3.0, 4.0, 5.0, 6.0, 7.0, 8.0, 9.0, 10.0, 11.0, 12.0, 13.0, 14.0, 15.0, 16.0, 17.0, 18.0, 19.0, 20.0, 21.0, 22.0, 23.0, 24.0, 25.0, 26.0, 27.0, 28.0, 29.0, 30.0, 31.0, 32.0, 33.0, 34.0, 35.0, 36.0, 37.0, 38.0, 39.0, 40.0, 41.0, 42.0, 43.0, 44.0, 45.0, 46.0, 47.0, 48.0, 49.0, 50.0, 51.0, 52.0, 53.0, 54.0, 55.0, 56.0, 57.0, 58.0, 59.0, 60.0, 61.0, 62.0, 63.0, 64.0, 65.0, 66.0, 67.0, 68.0, 69.0, 70.0, 71.0, 72.0, 73.0, 74.0, 75.0, 76.0, 77.0, 78.0, 79.0, 80.0, 81.0, 82.0, 83.0, 84.0, 85.0, 86.0, 87.0, 88.0, 89.0, 90.0]\n"
     ]
    }
   ],
   "source": [
    "'''\n",
    "    PROBLEM 1) Age of a person ranges from 90 to 250 (which is not possible)\n",
    "\n",
    "'''\n",
    "\n",
    "# finding the most frequent value\n",
    "\n",
    "print(\"frequency of maximum age = %d\" % users['age'].value_counts().max())\n",
    "print(\"most frequently occuring age = %d\\n\\n\"%users['age'].value_counts().idxmax())\n",
    "\n",
    "# replacing values above 90 with most frequent age\n",
    "\n",
    "users.loc[users.age>90,:] = np.nan\n",
    "print(sorted(users['age'].unique()))"
   ]
  },
  {
   "cell_type": "code",
   "execution_count": 18,
   "metadata": {},
   "outputs": [
    {
     "name": "stdout",
     "output_type": "stream",
     "text": [
      "[nan, 5.0, 6.0, 7.0, 8.0, 9.0, 10.0, 11.0, 12.0, 13.0, 14.0, 15.0, 16.0, 17.0, 18.0, 19.0, 20.0, 21.0, 22.0, 23.0, 24.0, 25.0, 26.0, 27.0, 28.0, 29.0, 30.0, 31.0, 32.0, 33.0, 34.0, 35.0, 36.0, 37.0, 38.0, 39.0, 40.0, 41.0, 42.0, 43.0, 44.0, 45.0, 46.0, 47.0, 48.0, 49.0, 50.0, 51.0, 52.0, 53.0, 54.0, 55.0, 56.0, 57.0, 58.0, 59.0, 60.0, 61.0, 62.0, 63.0, 64.0, 65.0, 66.0, 67.0, 68.0, 69.0, 70.0, 71.0, 72.0, 73.0, 74.0, 75.0, 76.0, 77.0, 78.0, 79.0, 80.0, 81.0, 82.0, 83.0, 84.0, 85.0, 86.0, 87.0, 88.0, 89.0, 90.0]\n"
     ]
    }
   ],
   "source": [
    "'''\n",
    "    PROBLEM 2) Replacing Age value less than 5\n",
    "'''\n",
    "\n",
    "users.loc[users.age<5,:] = np.nan\n",
    "print(sorted(users['age'].unique()))"
   ]
  },
  {
   "cell_type": "code",
   "execution_count": 19,
   "metadata": {},
   "outputs": [
    {
     "name": "stdout",
     "output_type": "stream",
     "text": [
      "[5.0, 6.0, 7.0, 8.0, 9.0, 10.0, 11.0, 12.0, 13.0, 14.0, 15.0, 16.0, 17.0, 18.0, 19.0, 20.0, 21.0, 22.0, 23.0, 24.0, 25.0, 26.0, 27.0, 28.0, 29.0, 30.0, 31.0, 32.0, 33.0, 34.0, 35.0, 36.0, 37.0, 38.0, 39.0, 40.0, 41.0, 42.0, 43.0, 44.0, 45.0, 46.0, 47.0, 48.0, 49.0, 50.0, 51.0, 52.0, 53.0, 54.0, 55.0, 56.0, 57.0, 58.0, 59.0, 60.0, 61.0, 62.0, 63.0, 64.0, 65.0, 66.0, 67.0, 68.0, 69.0, 70.0, 71.0, 72.0, 73.0, 74.0, 75.0, 76.0, 77.0, 78.0, 79.0, 80.0, 81.0, 82.0, 83.0, 84.0, 85.0, 86.0, 87.0, 88.0, 89.0, 90.0]\n"
     ]
    }
   ],
   "source": [
    "'''\n",
    "    PROBLEM 3) Age conatins a lots of NaN values\n",
    "'''\n",
    "\n",
    "users.loc[users.age.isnull(),:]=users['age'].value_counts().idxmax()\n",
    "print(sorted(users['age'].unique()))"
   ]
  },
  {
   "cell_type": "code",
   "execution_count": 20,
   "metadata": {},
   "outputs": [
    {
     "data": {
      "text/plain": [
       "user_id     0\n",
       "location    0\n",
       "age         0\n",
       "dtype: int64"
      ]
     },
     "execution_count": 20,
     "metadata": {},
     "output_type": "execute_result"
    }
   ],
   "source": [
    "users.isnull().sum()"
   ]
  },
  {
   "cell_type": "markdown",
   "metadata": {},
   "source": [
    "### Ratings Dataset"
   ]
  },
  {
   "cell_type": "code",
   "execution_count": 21,
   "metadata": {},
   "outputs": [
    {
     "data": {
      "text/html": [
       "<div>\n",
       "<style scoped>\n",
       "    .dataframe tbody tr th:only-of-type {\n",
       "        vertical-align: middle;\n",
       "    }\n",
       "\n",
       "    .dataframe tbody tr th {\n",
       "        vertical-align: top;\n",
       "    }\n",
       "\n",
       "    .dataframe thead th {\n",
       "        text-align: right;\n",
       "    }\n",
       "</style>\n",
       "<table border=\"1\" class=\"dataframe\">\n",
       "  <thead>\n",
       "    <tr style=\"text-align: right;\">\n",
       "      <th></th>\n",
       "      <th>user_id</th>\n",
       "      <th>ISBN</th>\n",
       "      <th>rating</th>\n",
       "    </tr>\n",
       "  </thead>\n",
       "  <tbody>\n",
       "    <tr>\n",
       "      <th>0</th>\n",
       "      <td>276725</td>\n",
       "      <td>034545104X</td>\n",
       "      <td>0</td>\n",
       "    </tr>\n",
       "    <tr>\n",
       "      <th>1</th>\n",
       "      <td>276726</td>\n",
       "      <td>0155061224</td>\n",
       "      <td>5</td>\n",
       "    </tr>\n",
       "    <tr>\n",
       "      <th>2</th>\n",
       "      <td>276727</td>\n",
       "      <td>0446520802</td>\n",
       "      <td>0</td>\n",
       "    </tr>\n",
       "    <tr>\n",
       "      <th>3</th>\n",
       "      <td>276729</td>\n",
       "      <td>052165615X</td>\n",
       "      <td>3</td>\n",
       "    </tr>\n",
       "    <tr>\n",
       "      <th>4</th>\n",
       "      <td>276729</td>\n",
       "      <td>0521795028</td>\n",
       "      <td>6</td>\n",
       "    </tr>\n",
       "  </tbody>\n",
       "</table>\n",
       "</div>"
      ],
      "text/plain": [
       "   user_id        ISBN  rating\n",
       "0  276725   034545104X  0     \n",
       "1  276726   0155061224  5     \n",
       "2  276727   0446520802  0     \n",
       "3  276729   052165615X  3     \n",
       "4  276729   0521795028  6     "
      ]
     },
     "execution_count": 21,
     "metadata": {},
     "output_type": "execute_result"
    }
   ],
   "source": [
    "ratings = pd.read_csv('BX-Book-Ratings.csv', error_bad_lines=False, encoding='latin-1')\n",
    "ratings.columns = ['user_id', 'ISBN', 'rating']\n",
    "ratings.head()"
   ]
  },
  {
   "cell_type": "code",
   "execution_count": 22,
   "metadata": {},
   "outputs": [
    {
     "name": "stdout",
     "output_type": "stream",
     "text": [
      "(1149780, 3)\n",
      "user_id    0\n",
      "ISBN       0\n",
      "rating     0\n",
      "dtype: int64\n"
     ]
    }
   ],
   "source": [
    "print(ratings.shape)\n",
    "print(ratings.isnull().sum())"
   ]
  },
  {
   "cell_type": "code",
   "execution_count": 23,
   "metadata": {},
   "outputs": [
    {
     "name": "stdout",
     "output_type": "stream",
     "text": [
      "frequency of maximum age = 716109\n",
      "most frequently occuring age = 0\n",
      "\n",
      "\n"
     ]
    }
   ],
   "source": [
    "# finding the most frequent value\n",
    "\n",
    "print(\"frequency of maximum age = %d\" % ratings['rating'].value_counts().max())\n",
    "print(\"most frequently occuring age = %d\\n\\n\"%ratings['rating'].value_counts().idxmax())"
   ]
  },
  {
   "cell_type": "code",
   "execution_count": 24,
   "metadata": {},
   "outputs": [
    {
     "data": {
      "text/plain": [
       "\"\\nratings.loc[ratings['rating']==0,:]=ratings['rating'].mean()\\nratings.rating=np.int64(ratings['rating'])\\nsorted(ratings['rating'].unique())\\n\""
      ]
     },
     "execution_count": 24,
     "metadata": {},
     "output_type": "execute_result"
    }
   ],
   "source": [
    "'''\n",
    "    PROBLEM 1) Since, 716109 users have given 0 rating to books, which is another inconsistency in the dataset\n",
    "    \n",
    "    We can replace these 0 values with mean integer value of the ratings column\n",
    "'''\n",
    "'''\n",
    "ratings.loc[ratings['rating']==0,:]=ratings['rating'].mean()\n",
    "ratings.rating=np.int64(ratings['rating'])\n",
    "sorted(ratings['rating'].unique())\n",
    "'''"
   ]
  },
  {
   "cell_type": "code",
   "execution_count": 25,
   "metadata": {},
   "outputs": [
    {
     "data": {
      "text/plain": [
       "array([ 0,  5,  3,  6,  8,  7, 10,  9,  4,  1,  2], dtype=int64)"
      ]
     },
     "execution_count": 25,
     "metadata": {},
     "output_type": "execute_result"
    }
   ],
   "source": [
    "ratings.rating.unique()"
   ]
  },
  {
   "cell_type": "code",
   "execution_count": 26,
   "metadata": {},
   "outputs": [
    {
     "data": {
      "text/plain": [
       "user_id    int64 \n",
       "ISBN       object\n",
       "rating     int64 \n",
       "dtype: object"
      ]
     },
     "execution_count": 26,
     "metadata": {},
     "output_type": "execute_result"
    }
   ],
   "source": [
    "ratings.dtypes"
   ]
  },
  {
   "cell_type": "code",
   "execution_count": 27,
   "metadata": {},
   "outputs": [],
   "source": [
    "# Creating a new ratings dataframe which has UserId and ISBN in Users and Books dataframe\n",
    "\n",
    "ratings_new = ratings[ratings.ISBN.isin(books.ISBN)]\n",
    "ratings_new = ratings_new[ratings_new.user_id.isin(users.user_id)]"
   ]
  },
  {
   "cell_type": "code",
   "execution_count": 28,
   "metadata": {},
   "outputs": [
    {
     "name": "stdout",
     "output_type": "stream",
     "text": [
      "(1149780, 3)\n",
      "(748077, 3)\n"
     ]
    }
   ],
   "source": [
    "print(ratings.shape)\n",
    "print(ratings_new.shape)"
   ]
  },
  {
   "cell_type": "code",
   "execution_count": 29,
   "metadata": {},
   "outputs": [
    {
     "name": "stdout",
     "output_type": "stream",
     "text": [
      "(267786, 3)\n",
      "(480291, 3)\n"
     ]
    }
   ],
   "source": [
    "# Spliting explicit (ratings ranging from 1-10) and implicit rating (ratings are 0)\n",
    "\n",
    "ratings_explicit = ratings_new[ratings_new.rating != 0]\n",
    "ratings_implicit = ratings_new[ratings_new.rating == 0]\n",
    "print(ratings_explicit.shape)\n",
    "print(ratings_implicit.shape)"
   ]
  },
  {
   "cell_type": "code",
   "execution_count": 30,
   "metadata": {},
   "outputs": [],
   "source": [
    "# Storing only user in user dataset that have rated a book\n",
    "\n",
    "users_exp_ratings = users[users.user_id.isin(ratings_explicit.user_id)]\n",
    "users_imp_ratings = users[users.user_id.isin(ratings_explicit.user_id)]"
   ]
  },
  {
   "cell_type": "code",
   "execution_count": 31,
   "metadata": {},
   "outputs": [
    {
     "data": {
      "image/png": "[encoded data removed]",
      "text/plain": [
       "<Figure size 432x288 with 1 Axes>"
      ]
     },
     "metadata": {},
     "output_type": "display_data"
    }
   ],
   "source": [
    "sb.countplot(x=ratings_explicit[\"rating\"])\n",
    "plt.show()"
   ]
  },
  {
   "cell_type": "markdown",
   "metadata": {},
   "source": [
    "### Recommedation System"
   ]
  },
  {
   "cell_type": "markdown",
   "metadata": {},
   "source": [
    "### Simple Popularity based Recommendation System"
   ]
  },
  {
   "cell_type": "code",
   "execution_count": 32,
   "metadata": {},
   "outputs": [
    {
     "name": "stdout",
     "output_type": "stream",
     "text": [
      "Top 10 recommended books based on Popularity are - \n",
      "\n",
      "\n"
     ]
    },
    {
     "data": {
      "text/html": [
       "<div>\n",
       "<style scoped>\n",
       "    .dataframe tbody tr th:only-of-type {\n",
       "        vertical-align: middle;\n",
       "    }\n",
       "\n",
       "    .dataframe tbody tr th {\n",
       "        vertical-align: top;\n",
       "    }\n",
       "\n",
       "    .dataframe thead th {\n",
       "        text-align: right;\n",
       "    }\n",
       "</style>\n",
       "<table border=\"1\" class=\"dataframe\">\n",
       "  <thead>\n",
       "    <tr style=\"text-align: right;\">\n",
       "      <th></th>\n",
       "      <th>rating</th>\n",
       "      <th>ISBN</th>\n",
       "      <th>book_title</th>\n",
       "      <th>book_author</th>\n",
       "      <th>year_of_publication</th>\n",
       "      <th>publisher</th>\n",
       "    </tr>\n",
       "  </thead>\n",
       "  <tbody>\n",
       "    <tr>\n",
       "      <th>408</th>\n",
       "      <td>3862</td>\n",
       "      <td>0316666343</td>\n",
       "      <td>The Lovely Bones: A Novel</td>\n",
       "      <td>Alice Sebold</td>\n",
       "      <td>2002</td>\n",
       "      <td>Little, Brown</td>\n",
       "    </tr>\n",
       "    <tr>\n",
       "      <th>748</th>\n",
       "      <td>3127</td>\n",
       "      <td>0385504209</td>\n",
       "      <td>The Da Vinci Code</td>\n",
       "      <td>Dan Brown</td>\n",
       "      <td>2003</td>\n",
       "      <td>Doubleday</td>\n",
       "    </tr>\n",
       "    <tr>\n",
       "      <th>26</th>\n",
       "      <td>2108</td>\n",
       "      <td>0971880107</td>\n",
       "      <td>Wild Animus</td>\n",
       "      <td>Rich Shapero</td>\n",
       "      <td>2004</td>\n",
       "      <td>Too Far</td>\n",
       "    </tr>\n",
       "    <tr>\n",
       "      <th>2143</th>\n",
       "      <td>1974</td>\n",
       "      <td>059035342X</td>\n",
       "      <td>Harry Potter and the Sorcerer's Stone (Harry Potter (Paperback))</td>\n",
       "      <td>J. K. Rowling</td>\n",
       "      <td>1999</td>\n",
       "      <td>Arthur A. Levine Books</td>\n",
       "    </tr>\n",
       "    <tr>\n",
       "      <th>522</th>\n",
       "      <td>1869</td>\n",
       "      <td>0312195516</td>\n",
       "      <td>The Red Tent (Bestselling Backlist)</td>\n",
       "      <td>Anita Diamant</td>\n",
       "      <td>1998</td>\n",
       "      <td>Picador USA</td>\n",
       "    </tr>\n",
       "    <tr>\n",
       "      <th>356</th>\n",
       "      <td>1838</td>\n",
       "      <td>0142001740</td>\n",
       "      <td>The Secret Life of Bees</td>\n",
       "      <td>Sue Monk Kidd</td>\n",
       "      <td>2003</td>\n",
       "      <td>Penguin Books</td>\n",
       "    </tr>\n",
       "    <tr>\n",
       "      <th>118</th>\n",
       "      <td>1781</td>\n",
       "      <td>0671027360</td>\n",
       "      <td>Angels &amp;amp, Demons</td>\n",
       "      <td>Dan Brown</td>\n",
       "      <td>2001</td>\n",
       "      <td>Pocket Star</td>\n",
       "    </tr>\n",
       "    <tr>\n",
       "      <th>107</th>\n",
       "      <td>1631</td>\n",
       "      <td>0786868716</td>\n",
       "      <td>The Five People You Meet in Heaven</td>\n",
       "      <td>Mitch Albom</td>\n",
       "      <td>2003</td>\n",
       "      <td>Hyperion</td>\n",
       "    </tr>\n",
       "    <tr>\n",
       "      <th>5506</th>\n",
       "      <td>1612</td>\n",
       "      <td>043935806X</td>\n",
       "      <td>Harry Potter and the Order of the Phoenix (Book 5)</td>\n",
       "      <td>J. K. Rowling</td>\n",
       "      <td>2003</td>\n",
       "      <td>Scholastic</td>\n",
       "    </tr>\n",
       "    <tr>\n",
       "      <th>1105</th>\n",
       "      <td>1603</td>\n",
       "      <td>0060928336</td>\n",
       "      <td>Divine Secrets of the Ya-Ya Sisterhood: A Novel</td>\n",
       "      <td>Rebecca Wells</td>\n",
       "      <td>1997</td>\n",
       "      <td>Perennial</td>\n",
       "    </tr>\n",
       "  </tbody>\n",
       "</table>\n",
       "</div>"
      ],
      "text/plain": [
       "      rating        ISBN  \\\n",
       "408   3862    0316666343   \n",
       "748   3127    0385504209   \n",
       "26    2108    0971880107   \n",
       "2143  1974    059035342X   \n",
       "522   1869    0312195516   \n",
       "356   1838    0142001740   \n",
       "118   1781    0671027360   \n",
       "107   1631    0786868716   \n",
       "5506  1612    043935806X   \n",
       "1105  1603    0060928336   \n",
       "\n",
       "                                                            book_title  \\\n",
       "408   The Lovely Bones: A Novel                                          \n",
       "748   The Da Vinci Code                                                  \n",
       "26    Wild Animus                                                        \n",
       "2143  Harry Potter and the Sorcerer's Stone (Harry Potter (Paperback))   \n",
       "522   The Red Tent (Bestselling Backlist)                                \n",
       "356   The Secret Life of Bees                                            \n",
       "118   Angels &amp, Demons                                                \n",
       "107   The Five People You Meet in Heaven                                 \n",
       "5506  Harry Potter and the Order of the Phoenix (Book 5)                 \n",
       "1105  Divine Secrets of the Ya-Ya Sisterhood: A Novel                    \n",
       "\n",
       "        book_author  year_of_publication               publisher  \n",
       "408   Alice Sebold   2002                 Little, Brown           \n",
       "748   Dan Brown      2003                 Doubleday               \n",
       "26    Rich Shapero   2004                 Too Far                 \n",
       "2143  J. K. Rowling  1999                 Arthur A. Levine Books  \n",
       "522   Anita Diamant  1998                 Picador USA             \n",
       "356   Sue Monk Kidd  2003                 Penguin Books           \n",
       "118   Dan Brown      2001                 Pocket Star             \n",
       "107   Mitch Albom    2003                 Hyperion                \n",
       "5506  J. K. Rowling  2003                 Scholastic              \n",
       "1105  Rebecca Wells  1997                 Perennial               "
      ]
     },
     "execution_count": 32,
     "metadata": {},
     "output_type": "execute_result"
    }
   ],
   "source": [
    "ratings_count = pd.DataFrame(ratings_explicit.groupby(['ISBN'])['rating'].sum())\n",
    "top_10 = ratings_count.sort_values('rating', ascending=False).head(10)\n",
    "print(\"Top 10 recommended books based on Popularity are - \\n\\n\")\n",
    "top_10.merge(books, left_index= True, right_on=\"ISBN\")"
   ]
  },
  {
   "cell_type": "code",
   "execution_count": 33,
   "metadata": {},
   "outputs": [
    {
     "name": "stdout",
     "output_type": "stream",
     "text": [
      "         user_id        ISBN  rating\n",
      "1456     277427   002542730X  10    \n",
      "1458     277427   003008685X  8     \n",
      "1461     277427   0060006641  10    \n",
      "1465     277427   0060542128  7     \n",
      "1474     277427   0061009059  9     \n",
      "1477     277427   0062507109  8     \n",
      "1483     277427   0132220598  8     \n",
      "1488     277427   0140283374  6     \n",
      "1490     277427   014039026X  8     \n",
      "1491     277427   0140390715  7     \n",
      "1494     277427   0141439742  8     \n",
      "1497     277427   0152050167  10    \n",
      "1501     277427   0201000822  10    \n",
      "1506     277427   0310435706  10    \n",
      "1509     277427   0312944691  8     \n",
      "1522     277427   0316776963  8     \n",
      "1543     277427   0345413903  10    \n",
      "1554     277427   0375408886  9     \n",
      "1560     277427   0375751513  9     \n",
      "1564     277427   0380702843  8     \n",
      "1570     277427   0380791978  9     \n",
      "1571     277427   038081904X  9     \n",
      "1578     277427   0385424736  9     \n",
      "1581     277427   0385486804  9     \n",
      "1583     277427   0385503857  9     \n",
      "1584     277427   0385504209  8     \n",
      "1586     277427   039304016X  8     \n",
      "1591     277427   0394738136  7     \n",
      "1592     277427   0394862147  7     \n",
      "1599     277427   0399149562  7     \n",
      "...         ...          ... ..     \n",
      "1147394  275970   0877017883  10    \n",
      "1147406  275970   0896086011  10    \n",
      "1147411  275970   0915230151  7     \n",
      "1147419  275970   0945774109  10    \n",
      "1147427  275970   0965328309  10    \n",
      "1147432  275970   0971183562  10    \n",
      "1147445  275970   1400060494  8     \n",
      "1147452  275970   1551110792  10    \n",
      "1147456  275970   1552093654  8     \n",
      "1147460  275970   1555912400  6     \n",
      "1147464  275970   1556704402  10    \n",
      "1147477  275970   1561483516  8     \n",
      "1147480  275970   1563052377  7     \n",
      "1147509  275970   1572970065  6     \n",
      "1147529  275970   1580628079  7     \n",
      "1147543  275970   1583224890  10    \n",
      "1147548  275970   1584690445  10    \n",
      "1147549  275970   1584690453  10    \n",
      "1147550  275970   1584690461  10    \n",
      "1147551  275970   158469047X  10    \n",
      "1147556  275970   1586210661  9     \n",
      "1147558  275970   1586214349  8     \n",
      "1147560  275970   1586632043  10    \n",
      "1147570  275970   1592865089  7     \n",
      "1147579  275970   1845170423  7     \n",
      "1147587  275970   185649814X  7     \n",
      "1147592  275970   1860462588  8     \n",
      "1147599  275970   1886411077  6     \n",
      "1147611  275970   3411086211  10    \n",
      "1147615  275970   9626340762  8     \n",
      "\n",
      "[74311 rows x 3 columns]\n"
     ]
    }
   ],
   "source": [
    "# reducing the dataset to users who have rated 100 books and to books which are rated by 100 users\n",
    "\n",
    "counts1 = ratings_explicit['user_id'].value_counts()\n",
    "ratings_explicit = ratings_explicit[ratings_explicit['user_id'].isin(counts1[counts1 >= 100].index)]\n",
    "\n",
    "counts2 = ratings_explicit['rating'].value_counts()\n",
    "ratings_explicit = ratings_explicit[ratings_explicit['rating'].isin(counts2[counts2 >= 100].index)]\n",
    "\n",
    "print(ratings_explicit)"
   ]
  },
  {
   "cell_type": "markdown",
   "metadata": {},
   "source": [
    "### Generating User-Item Rating Matrix"
   ]
  },
  {
   "cell_type": "code",
   "execution_count": 34,
   "metadata": {},
   "outputs": [
    {
     "name": "stdout",
     "output_type": "stream",
     "text": [
      "(353, 50667)\n"
     ]
    },
    {
     "data": {
      "text/html": [
       "<div>\n",
       "<style scoped>\n",
       "    .dataframe tbody tr th:only-of-type {\n",
       "        vertical-align: middle;\n",
       "    }\n",
       "\n",
       "    .dataframe tbody tr th {\n",
       "        vertical-align: top;\n",
       "    }\n",
       "\n",
       "    .dataframe thead th {\n",
       "        text-align: right;\n",
       "    }\n",
       "</style>\n",
       "<table border=\"1\" class=\"dataframe\">\n",
       "  <thead>\n",
       "    <tr style=\"text-align: right;\">\n",
       "      <th>ISBN</th>\n",
       "      <th>0000913154</th>\n",
       "      <th>000104799X</th>\n",
       "      <th>0001048082</th>\n",
       "      <th>0001055607</th>\n",
       "      <th>0001056107</th>\n",
       "      <th>0001845039</th>\n",
       "      <th>0001935968</th>\n",
       "      <th>0001952803</th>\n",
       "      <th>0001953877</th>\n",
       "      <th>0002000547</th>\n",
       "      <th>...</th>\n",
       "      <th>B00007FYKW</th>\n",
       "      <th>B00008RWPV</th>\n",
       "      <th>B000092Q0A</th>\n",
       "      <th>B00009EF82</th>\n",
       "      <th>B00009NDAN</th>\n",
       "      <th>B0000T6KHI</th>\n",
       "      <th>B0000VZEJQ</th>\n",
       "      <th>B0000X8HIE</th>\n",
       "      <th>B00013AX9E</th>\n",
       "      <th>B000234N3A</th>\n",
       "    </tr>\n",
       "    <tr>\n",
       "      <th>user_id</th>\n",
       "      <th></th>\n",
       "      <th></th>\n",
       "      <th></th>\n",
       "      <th></th>\n",
       "      <th></th>\n",
       "      <th></th>\n",
       "      <th></th>\n",
       "      <th></th>\n",
       "      <th></th>\n",
       "      <th></th>\n",
       "      <th></th>\n",
       "      <th></th>\n",
       "      <th></th>\n",
       "      <th></th>\n",
       "      <th></th>\n",
       "      <th></th>\n",
       "      <th></th>\n",
       "      <th></th>\n",
       "      <th></th>\n",
       "      <th></th>\n",
       "      <th></th>\n",
       "    </tr>\n",
       "  </thead>\n",
       "  <tbody>\n",
       "    <tr>\n",
       "      <th>2033</th>\n",
       "      <td>NaN</td>\n",
       "      <td>NaN</td>\n",
       "      <td>NaN</td>\n",
       "      <td>NaN</td>\n",
       "      <td>NaN</td>\n",
       "      <td>NaN</td>\n",
       "      <td>NaN</td>\n",
       "      <td>NaN</td>\n",
       "      <td>NaN</td>\n",
       "      <td>NaN</td>\n",
       "      <td>...</td>\n",
       "      <td>NaN</td>\n",
       "      <td>NaN</td>\n",
       "      <td>NaN</td>\n",
       "      <td>NaN</td>\n",
       "      <td>NaN</td>\n",
       "      <td>NaN</td>\n",
       "      <td>NaN</td>\n",
       "      <td>NaN</td>\n",
       "      <td>NaN</td>\n",
       "      <td>NaN</td>\n",
       "    </tr>\n",
       "    <tr>\n",
       "      <th>2276</th>\n",
       "      <td>NaN</td>\n",
       "      <td>NaN</td>\n",
       "      <td>NaN</td>\n",
       "      <td>NaN</td>\n",
       "      <td>NaN</td>\n",
       "      <td>NaN</td>\n",
       "      <td>NaN</td>\n",
       "      <td>NaN</td>\n",
       "      <td>NaN</td>\n",
       "      <td>NaN</td>\n",
       "      <td>...</td>\n",
       "      <td>NaN</td>\n",
       "      <td>NaN</td>\n",
       "      <td>NaN</td>\n",
       "      <td>NaN</td>\n",
       "      <td>NaN</td>\n",
       "      <td>NaN</td>\n",
       "      <td>NaN</td>\n",
       "      <td>NaN</td>\n",
       "      <td>NaN</td>\n",
       "      <td>NaN</td>\n",
       "    </tr>\n",
       "    <tr>\n",
       "      <th>4017</th>\n",
       "      <td>NaN</td>\n",
       "      <td>NaN</td>\n",
       "      <td>NaN</td>\n",
       "      <td>NaN</td>\n",
       "      <td>NaN</td>\n",
       "      <td>NaN</td>\n",
       "      <td>NaN</td>\n",
       "      <td>NaN</td>\n",
       "      <td>NaN</td>\n",
       "      <td>NaN</td>\n",
       "      <td>...</td>\n",
       "      <td>NaN</td>\n",
       "      <td>NaN</td>\n",
       "      <td>NaN</td>\n",
       "      <td>NaN</td>\n",
       "      <td>NaN</td>\n",
       "      <td>NaN</td>\n",
       "      <td>NaN</td>\n",
       "      <td>NaN</td>\n",
       "      <td>NaN</td>\n",
       "      <td>NaN</td>\n",
       "    </tr>\n",
       "    <tr>\n",
       "      <th>4385</th>\n",
       "      <td>NaN</td>\n",
       "      <td>NaN</td>\n",
       "      <td>NaN</td>\n",
       "      <td>NaN</td>\n",
       "      <td>NaN</td>\n",
       "      <td>NaN</td>\n",
       "      <td>NaN</td>\n",
       "      <td>NaN</td>\n",
       "      <td>NaN</td>\n",
       "      <td>NaN</td>\n",
       "      <td>...</td>\n",
       "      <td>NaN</td>\n",
       "      <td>NaN</td>\n",
       "      <td>NaN</td>\n",
       "      <td>NaN</td>\n",
       "      <td>NaN</td>\n",
       "      <td>NaN</td>\n",
       "      <td>NaN</td>\n",
       "      <td>NaN</td>\n",
       "      <td>NaN</td>\n",
       "      <td>NaN</td>\n",
       "    </tr>\n",
       "    <tr>\n",
       "      <th>5582</th>\n",
       "      <td>NaN</td>\n",
       "      <td>NaN</td>\n",
       "      <td>NaN</td>\n",
       "      <td>NaN</td>\n",
       "      <td>NaN</td>\n",
       "      <td>NaN</td>\n",
       "      <td>NaN</td>\n",
       "      <td>NaN</td>\n",
       "      <td>NaN</td>\n",
       "      <td>NaN</td>\n",
       "      <td>...</td>\n",
       "      <td>NaN</td>\n",
       "      <td>NaN</td>\n",
       "      <td>NaN</td>\n",
       "      <td>NaN</td>\n",
       "      <td>NaN</td>\n",
       "      <td>NaN</td>\n",
       "      <td>NaN</td>\n",
       "      <td>NaN</td>\n",
       "      <td>NaN</td>\n",
       "      <td>NaN</td>\n",
       "    </tr>\n",
       "    <tr>\n",
       "      <th>6251</th>\n",
       "      <td>NaN</td>\n",
       "      <td>NaN</td>\n",
       "      <td>NaN</td>\n",
       "      <td>NaN</td>\n",
       "      <td>NaN</td>\n",
       "      <td>NaN</td>\n",
       "      <td>NaN</td>\n",
       "      <td>NaN</td>\n",
       "      <td>NaN</td>\n",
       "      <td>NaN</td>\n",
       "      <td>...</td>\n",
       "      <td>NaN</td>\n",
       "      <td>NaN</td>\n",
       "      <td>NaN</td>\n",
       "      <td>NaN</td>\n",
       "      <td>NaN</td>\n",
       "      <td>NaN</td>\n",
       "      <td>NaN</td>\n",
       "      <td>NaN</td>\n",
       "      <td>NaN</td>\n",
       "      <td>NaN</td>\n",
       "    </tr>\n",
       "    <tr>\n",
       "      <th>6543</th>\n",
       "      <td>NaN</td>\n",
       "      <td>NaN</td>\n",
       "      <td>NaN</td>\n",
       "      <td>NaN</td>\n",
       "      <td>NaN</td>\n",
       "      <td>NaN</td>\n",
       "      <td>NaN</td>\n",
       "      <td>NaN</td>\n",
       "      <td>NaN</td>\n",
       "      <td>NaN</td>\n",
       "      <td>...</td>\n",
       "      <td>NaN</td>\n",
       "      <td>NaN</td>\n",
       "      <td>NaN</td>\n",
       "      <td>NaN</td>\n",
       "      <td>NaN</td>\n",
       "      <td>NaN</td>\n",
       "      <td>NaN</td>\n",
       "      <td>NaN</td>\n",
       "      <td>NaN</td>\n",
       "      <td>NaN</td>\n",
       "    </tr>\n",
       "    <tr>\n",
       "      <th>7286</th>\n",
       "      <td>NaN</td>\n",
       "      <td>NaN</td>\n",
       "      <td>NaN</td>\n",
       "      <td>NaN</td>\n",
       "      <td>NaN</td>\n",
       "      <td>NaN</td>\n",
       "      <td>NaN</td>\n",
       "      <td>NaN</td>\n",
       "      <td>NaN</td>\n",
       "      <td>NaN</td>\n",
       "      <td>...</td>\n",
       "      <td>NaN</td>\n",
       "      <td>NaN</td>\n",
       "      <td>NaN</td>\n",
       "      <td>NaN</td>\n",
       "      <td>NaN</td>\n",
       "      <td>NaN</td>\n",
       "      <td>NaN</td>\n",
       "      <td>NaN</td>\n",
       "      <td>NaN</td>\n",
       "      <td>NaN</td>\n",
       "    </tr>\n",
       "    <tr>\n",
       "      <th>7346</th>\n",
       "      <td>NaN</td>\n",
       "      <td>NaN</td>\n",
       "      <td>NaN</td>\n",
       "      <td>NaN</td>\n",
       "      <td>NaN</td>\n",
       "      <td>NaN</td>\n",
       "      <td>NaN</td>\n",
       "      <td>NaN</td>\n",
       "      <td>NaN</td>\n",
       "      <td>NaN</td>\n",
       "      <td>...</td>\n",
       "      <td>NaN</td>\n",
       "      <td>NaN</td>\n",
       "      <td>NaN</td>\n",
       "      <td>NaN</td>\n",
       "      <td>NaN</td>\n",
       "      <td>NaN</td>\n",
       "      <td>NaN</td>\n",
       "      <td>NaN</td>\n",
       "      <td>NaN</td>\n",
       "      <td>NaN</td>\n",
       "    </tr>\n",
       "    <tr>\n",
       "      <th>8067</th>\n",
       "      <td>NaN</td>\n",
       "      <td>NaN</td>\n",
       "      <td>NaN</td>\n",
       "      <td>NaN</td>\n",
       "      <td>NaN</td>\n",
       "      <td>NaN</td>\n",
       "      <td>NaN</td>\n",
       "      <td>NaN</td>\n",
       "      <td>NaN</td>\n",
       "      <td>NaN</td>\n",
       "      <td>...</td>\n",
       "      <td>NaN</td>\n",
       "      <td>NaN</td>\n",
       "      <td>NaN</td>\n",
       "      <td>NaN</td>\n",
       "      <td>NaN</td>\n",
       "      <td>NaN</td>\n",
       "      <td>NaN</td>\n",
       "      <td>NaN</td>\n",
       "      <td>NaN</td>\n",
       "      <td>NaN</td>\n",
       "    </tr>\n",
       "  </tbody>\n",
       "</table>\n",
       "<p>10 rows × 50667 columns</p>\n",
       "</div>"
      ],
      "text/plain": [
       "ISBN     0000913154  000104799X  0001048082  0001055607  0001056107  \\\n",
       "user_id                                                               \n",
       "2033    NaN         NaN         NaN         NaN         NaN           \n",
       "2276    NaN         NaN         NaN         NaN         NaN           \n",
       "4017    NaN         NaN         NaN         NaN         NaN           \n",
       "4385    NaN         NaN         NaN         NaN         NaN           \n",
       "5582    NaN         NaN         NaN         NaN         NaN           \n",
       "6251    NaN         NaN         NaN         NaN         NaN           \n",
       "6543    NaN         NaN         NaN         NaN         NaN           \n",
       "7286    NaN         NaN         NaN         NaN         NaN           \n",
       "7346    NaN         NaN         NaN         NaN         NaN           \n",
       "8067    NaN         NaN         NaN         NaN         NaN           \n",
       "\n",
       "ISBN     0001845039  0001935968  0001952803  0001953877  0002000547  \\\n",
       "user_id                                                               \n",
       "2033    NaN         NaN         NaN         NaN         NaN           \n",
       "2276    NaN         NaN         NaN         NaN         NaN           \n",
       "4017    NaN         NaN         NaN         NaN         NaN           \n",
       "4385    NaN         NaN         NaN         NaN         NaN           \n",
       "5582    NaN         NaN         NaN         NaN         NaN           \n",
       "6251    NaN         NaN         NaN         NaN         NaN           \n",
       "6543    NaN         NaN         NaN         NaN         NaN           \n",
       "7286    NaN         NaN         NaN         NaN         NaN           \n",
       "7346    NaN         NaN         NaN         NaN         NaN           \n",
       "8067    NaN         NaN         NaN         NaN         NaN           \n",
       "\n",
       "ISBN        ...      B00007FYKW  B00008RWPV  B000092Q0A  B00009EF82  \\\n",
       "user_id     ...                                                       \n",
       "2033        ...     NaN         NaN         NaN         NaN           \n",
       "2276        ...     NaN         NaN         NaN         NaN           \n",
       "4017        ...     NaN         NaN         NaN         NaN           \n",
       "4385        ...     NaN         NaN         NaN         NaN           \n",
       "5582        ...     NaN         NaN         NaN         NaN           \n",
       "6251        ...     NaN         NaN         NaN         NaN           \n",
       "6543        ...     NaN         NaN         NaN         NaN           \n",
       "7286        ...     NaN         NaN         NaN         NaN           \n",
       "7346        ...     NaN         NaN         NaN         NaN           \n",
       "8067        ...     NaN         NaN         NaN         NaN           \n",
       "\n",
       "ISBN     B00009NDAN  B0000T6KHI  B0000VZEJQ  B0000X8HIE  B00013AX9E  \\\n",
       "user_id                                                               \n",
       "2033    NaN         NaN         NaN         NaN         NaN           \n",
       "2276    NaN         NaN         NaN         NaN         NaN           \n",
       "4017    NaN         NaN         NaN         NaN         NaN           \n",
       "4385    NaN         NaN         NaN         NaN         NaN           \n",
       "5582    NaN         NaN         NaN         NaN         NaN           \n",
       "6251    NaN         NaN         NaN         NaN         NaN           \n",
       "6543    NaN         NaN         NaN         NaN         NaN           \n",
       "7286    NaN         NaN         NaN         NaN         NaN           \n",
       "7346    NaN         NaN         NaN         NaN         NaN           \n",
       "8067    NaN         NaN         NaN         NaN         NaN           \n",
       "\n",
       "ISBN     B000234N3A  \n",
       "user_id              \n",
       "2033    NaN          \n",
       "2276    NaN          \n",
       "4017    NaN          \n",
       "4385    NaN          \n",
       "5582    NaN          \n",
       "6251    NaN          \n",
       "6543    NaN          \n",
       "7286    NaN          \n",
       "7346    NaN          \n",
       "8067    NaN          \n",
       "\n",
       "[10 rows x 50667 columns]"
      ]
     },
     "execution_count": 34,
     "metadata": {},
     "output_type": "execute_result"
    }
   ],
   "source": [
    "ratings_matrix = ratings_explicit.pivot(index='user_id', columns='ISBN', values='rating')\n",
    "user_id = ratings_matrix.index\n",
    "\n",
    "ISBN = ratings_matrix.columns\n",
    "print(ratings_matrix.shape)\n",
    "ratings_matrix.head(10)"
   ]
  },
  {
   "cell_type": "code",
   "execution_count": 35,
   "metadata": {},
   "outputs": [
    {
     "data": {
      "text/html": [
       "<div>\n",
       "<style scoped>\n",
       "    .dataframe tbody tr th:only-of-type {\n",
       "        vertical-align: middle;\n",
       "    }\n",
       "\n",
       "    .dataframe tbody tr th {\n",
       "        vertical-align: top;\n",
       "    }\n",
       "\n",
       "    .dataframe thead th {\n",
       "        text-align: right;\n",
       "    }\n",
       "</style>\n",
       "<table border=\"1\" class=\"dataframe\">\n",
       "  <thead>\n",
       "    <tr style=\"text-align: right;\">\n",
       "      <th>ISBN</th>\n",
       "      <th>0000913154</th>\n",
       "      <th>000104799X</th>\n",
       "      <th>0001048082</th>\n",
       "      <th>0001055607</th>\n",
       "      <th>0001056107</th>\n",
       "      <th>0001845039</th>\n",
       "      <th>0001935968</th>\n",
       "      <th>0001952803</th>\n",
       "      <th>0001953877</th>\n",
       "      <th>0002000547</th>\n",
       "      <th>...</th>\n",
       "      <th>B00007FYKW</th>\n",
       "      <th>B00008RWPV</th>\n",
       "      <th>B000092Q0A</th>\n",
       "      <th>B00009EF82</th>\n",
       "      <th>B00009NDAN</th>\n",
       "      <th>B0000T6KHI</th>\n",
       "      <th>B0000VZEJQ</th>\n",
       "      <th>B0000X8HIE</th>\n",
       "      <th>B00013AX9E</th>\n",
       "      <th>B000234N3A</th>\n",
       "    </tr>\n",
       "    <tr>\n",
       "      <th>user_id</th>\n",
       "      <th></th>\n",
       "      <th></th>\n",
       "      <th></th>\n",
       "      <th></th>\n",
       "      <th></th>\n",
       "      <th></th>\n",
       "      <th></th>\n",
       "      <th></th>\n",
       "      <th></th>\n",
       "      <th></th>\n",
       "      <th></th>\n",
       "      <th></th>\n",
       "      <th></th>\n",
       "      <th></th>\n",
       "      <th></th>\n",
       "      <th></th>\n",
       "      <th></th>\n",
       "      <th></th>\n",
       "      <th></th>\n",
       "      <th></th>\n",
       "      <th></th>\n",
       "    </tr>\n",
       "  </thead>\n",
       "  <tbody>\n",
       "    <tr>\n",
       "      <th>268932</th>\n",
       "      <td>0</td>\n",
       "      <td>0</td>\n",
       "      <td>0</td>\n",
       "      <td>0</td>\n",
       "      <td>0</td>\n",
       "      <td>0</td>\n",
       "      <td>0</td>\n",
       "      <td>0</td>\n",
       "      <td>0</td>\n",
       "      <td>0</td>\n",
       "      <td>...</td>\n",
       "      <td>0</td>\n",
       "      <td>0</td>\n",
       "      <td>0</td>\n",
       "      <td>0</td>\n",
       "      <td>0</td>\n",
       "      <td>0</td>\n",
       "      <td>0</td>\n",
       "      <td>0</td>\n",
       "      <td>0</td>\n",
       "      <td>0</td>\n",
       "    </tr>\n",
       "    <tr>\n",
       "      <th>269566</th>\n",
       "      <td>0</td>\n",
       "      <td>0</td>\n",
       "      <td>0</td>\n",
       "      <td>0</td>\n",
       "      <td>0</td>\n",
       "      <td>0</td>\n",
       "      <td>0</td>\n",
       "      <td>0</td>\n",
       "      <td>0</td>\n",
       "      <td>0</td>\n",
       "      <td>...</td>\n",
       "      <td>0</td>\n",
       "      <td>0</td>\n",
       "      <td>0</td>\n",
       "      <td>0</td>\n",
       "      <td>0</td>\n",
       "      <td>0</td>\n",
       "      <td>0</td>\n",
       "      <td>0</td>\n",
       "      <td>0</td>\n",
       "      <td>0</td>\n",
       "    </tr>\n",
       "    <tr>\n",
       "      <th>270713</th>\n",
       "      <td>0</td>\n",
       "      <td>0</td>\n",
       "      <td>0</td>\n",
       "      <td>0</td>\n",
       "      <td>0</td>\n",
       "      <td>0</td>\n",
       "      <td>0</td>\n",
       "      <td>0</td>\n",
       "      <td>0</td>\n",
       "      <td>0</td>\n",
       "      <td>...</td>\n",
       "      <td>0</td>\n",
       "      <td>0</td>\n",
       "      <td>0</td>\n",
       "      <td>0</td>\n",
       "      <td>0</td>\n",
       "      <td>0</td>\n",
       "      <td>0</td>\n",
       "      <td>0</td>\n",
       "      <td>0</td>\n",
       "      <td>0</td>\n",
       "    </tr>\n",
       "    <tr>\n",
       "      <th>271448</th>\n",
       "      <td>0</td>\n",
       "      <td>0</td>\n",
       "      <td>0</td>\n",
       "      <td>0</td>\n",
       "      <td>0</td>\n",
       "      <td>0</td>\n",
       "      <td>0</td>\n",
       "      <td>0</td>\n",
       "      <td>0</td>\n",
       "      <td>0</td>\n",
       "      <td>...</td>\n",
       "      <td>0</td>\n",
       "      <td>0</td>\n",
       "      <td>0</td>\n",
       "      <td>0</td>\n",
       "      <td>0</td>\n",
       "      <td>0</td>\n",
       "      <td>0</td>\n",
       "      <td>0</td>\n",
       "      <td>0</td>\n",
       "      <td>0</td>\n",
       "    </tr>\n",
       "    <tr>\n",
       "      <th>271705</th>\n",
       "      <td>0</td>\n",
       "      <td>0</td>\n",
       "      <td>0</td>\n",
       "      <td>0</td>\n",
       "      <td>0</td>\n",
       "      <td>0</td>\n",
       "      <td>0</td>\n",
       "      <td>0</td>\n",
       "      <td>0</td>\n",
       "      <td>0</td>\n",
       "      <td>...</td>\n",
       "      <td>0</td>\n",
       "      <td>0</td>\n",
       "      <td>0</td>\n",
       "      <td>0</td>\n",
       "      <td>0</td>\n",
       "      <td>0</td>\n",
       "      <td>0</td>\n",
       "      <td>0</td>\n",
       "      <td>0</td>\n",
       "      <td>0</td>\n",
       "    </tr>\n",
       "    <tr>\n",
       "      <th>273113</th>\n",
       "      <td>0</td>\n",
       "      <td>0</td>\n",
       "      <td>0</td>\n",
       "      <td>0</td>\n",
       "      <td>0</td>\n",
       "      <td>0</td>\n",
       "      <td>0</td>\n",
       "      <td>0</td>\n",
       "      <td>0</td>\n",
       "      <td>0</td>\n",
       "      <td>...</td>\n",
       "      <td>0</td>\n",
       "      <td>0</td>\n",
       "      <td>0</td>\n",
       "      <td>0</td>\n",
       "      <td>0</td>\n",
       "      <td>0</td>\n",
       "      <td>0</td>\n",
       "      <td>0</td>\n",
       "      <td>0</td>\n",
       "      <td>0</td>\n",
       "    </tr>\n",
       "    <tr>\n",
       "      <th>274061</th>\n",
       "      <td>0</td>\n",
       "      <td>0</td>\n",
       "      <td>0</td>\n",
       "      <td>0</td>\n",
       "      <td>0</td>\n",
       "      <td>0</td>\n",
       "      <td>0</td>\n",
       "      <td>0</td>\n",
       "      <td>0</td>\n",
       "      <td>0</td>\n",
       "      <td>...</td>\n",
       "      <td>0</td>\n",
       "      <td>0</td>\n",
       "      <td>0</td>\n",
       "      <td>0</td>\n",
       "      <td>0</td>\n",
       "      <td>0</td>\n",
       "      <td>0</td>\n",
       "      <td>0</td>\n",
       "      <td>0</td>\n",
       "      <td>0</td>\n",
       "    </tr>\n",
       "    <tr>\n",
       "      <th>274301</th>\n",
       "      <td>0</td>\n",
       "      <td>0</td>\n",
       "      <td>0</td>\n",
       "      <td>0</td>\n",
       "      <td>0</td>\n",
       "      <td>0</td>\n",
       "      <td>0</td>\n",
       "      <td>0</td>\n",
       "      <td>0</td>\n",
       "      <td>0</td>\n",
       "      <td>...</td>\n",
       "      <td>0</td>\n",
       "      <td>0</td>\n",
       "      <td>0</td>\n",
       "      <td>0</td>\n",
       "      <td>10</td>\n",
       "      <td>0</td>\n",
       "      <td>0</td>\n",
       "      <td>0</td>\n",
       "      <td>0</td>\n",
       "      <td>0</td>\n",
       "    </tr>\n",
       "    <tr>\n",
       "      <th>275970</th>\n",
       "      <td>0</td>\n",
       "      <td>0</td>\n",
       "      <td>0</td>\n",
       "      <td>0</td>\n",
       "      <td>0</td>\n",
       "      <td>0</td>\n",
       "      <td>0</td>\n",
       "      <td>0</td>\n",
       "      <td>0</td>\n",
       "      <td>0</td>\n",
       "      <td>...</td>\n",
       "      <td>0</td>\n",
       "      <td>0</td>\n",
       "      <td>0</td>\n",
       "      <td>0</td>\n",
       "      <td>0</td>\n",
       "      <td>0</td>\n",
       "      <td>0</td>\n",
       "      <td>0</td>\n",
       "      <td>0</td>\n",
       "      <td>0</td>\n",
       "    </tr>\n",
       "    <tr>\n",
       "      <th>277427</th>\n",
       "      <td>0</td>\n",
       "      <td>0</td>\n",
       "      <td>0</td>\n",
       "      <td>0</td>\n",
       "      <td>0</td>\n",
       "      <td>0</td>\n",
       "      <td>0</td>\n",
       "      <td>0</td>\n",
       "      <td>0</td>\n",
       "      <td>0</td>\n",
       "      <td>...</td>\n",
       "      <td>0</td>\n",
       "      <td>0</td>\n",
       "      <td>0</td>\n",
       "      <td>0</td>\n",
       "      <td>0</td>\n",
       "      <td>0</td>\n",
       "      <td>0</td>\n",
       "      <td>0</td>\n",
       "      <td>0</td>\n",
       "      <td>0</td>\n",
       "    </tr>\n",
       "  </tbody>\n",
       "</table>\n",
       "<p>10 rows × 50667 columns</p>\n",
       "</div>"
      ],
      "text/plain": [
       "ISBN     0000913154  000104799X  0001048082  0001055607  0001056107  \\\n",
       "user_id                                                               \n",
       "268932   0           0           0           0           0            \n",
       "269566   0           0           0           0           0            \n",
       "270713   0           0           0           0           0            \n",
       "271448   0           0           0           0           0            \n",
       "271705   0           0           0           0           0            \n",
       "273113   0           0           0           0           0            \n",
       "274061   0           0           0           0           0            \n",
       "274301   0           0           0           0           0            \n",
       "275970   0           0           0           0           0            \n",
       "277427   0           0           0           0           0            \n",
       "\n",
       "ISBN     0001845039  0001935968  0001952803  0001953877  0002000547  \\\n",
       "user_id                                                               \n",
       "268932   0           0           0           0           0            \n",
       "269566   0           0           0           0           0            \n",
       "270713   0           0           0           0           0            \n",
       "271448   0           0           0           0           0            \n",
       "271705   0           0           0           0           0            \n",
       "273113   0           0           0           0           0            \n",
       "274061   0           0           0           0           0            \n",
       "274301   0           0           0           0           0            \n",
       "275970   0           0           0           0           0            \n",
       "277427   0           0           0           0           0            \n",
       "\n",
       "ISBN        ...      B00007FYKW  B00008RWPV  B000092Q0A  B00009EF82  \\\n",
       "user_id     ...                                                       \n",
       "268932      ...      0           0           0           0            \n",
       "269566      ...      0           0           0           0            \n",
       "270713      ...      0           0           0           0            \n",
       "271448      ...      0           0           0           0            \n",
       "271705      ...      0           0           0           0            \n",
       "273113      ...      0           0           0           0            \n",
       "274061      ...      0           0           0           0            \n",
       "274301      ...      0           0           0           0            \n",
       "275970      ...      0           0           0           0            \n",
       "277427      ...      0           0           0           0            \n",
       "\n",
       "ISBN     B00009NDAN  B0000T6KHI  B0000VZEJQ  B0000X8HIE  B00013AX9E  \\\n",
       "user_id                                                               \n",
       "268932   0           0           0           0           0            \n",
       "269566   0           0           0           0           0            \n",
       "270713   0           0           0           0           0            \n",
       "271448   0           0           0           0           0            \n",
       "271705   0           0           0           0           0            \n",
       "273113   0           0           0           0           0            \n",
       "274061   0           0           0           0           0            \n",
       "274301   10          0           0           0           0            \n",
       "275970   0           0           0           0           0            \n",
       "277427   0           0           0           0           0            \n",
       "\n",
       "ISBN     B000234N3A  \n",
       "user_id              \n",
       "268932   0           \n",
       "269566   0           \n",
       "270713   0           \n",
       "271448   0           \n",
       "271705   0           \n",
       "273113   0           \n",
       "274061   0           \n",
       "274301   0           \n",
       "275970   0           \n",
       "277427   0           \n",
       "\n",
       "[10 rows x 50667 columns]"
      ]
     },
     "execution_count": 35,
     "metadata": {},
     "output_type": "execute_result"
    }
   ],
   "source": [
    "# since nan cannot be handled by training algorithms, replacing these by 0, which indicates absence of ratings\n",
    "\n",
    "ratings_matrix.fillna(0, inplace = True)\n",
    "ratings_matrix = ratings_matrix.astype(np.int32)\n",
    "\n",
    "ratings_matrix.tail(10)"
   ]
  },
  {
   "cell_type": "code",
   "execution_count": 36,
   "metadata": {},
   "outputs": [],
   "source": [
    "@contextmanager\n",
    "def suppress_stdout():\n",
    "    with open(os.devnull, \"w\") as devnull:\n",
    "        old_stdout = sys.stdout\n",
    "        sys.stdout = devnull\n",
    "        try:  \n",
    "            yield\n",
    "        finally:\n",
    "            sys.stdout = old_stdout"
   ]
  },
  {
   "cell_type": "code",
   "execution_count": 37,
   "metadata": {},
   "outputs": [],
   "source": [
    "# setting global variables\n",
    "\n",
    "global metric,k\n",
    "\n",
    "k=10 # number of similar item\n",
    "metric='cosine' # similarity metric"
   ]
  },
  {
   "cell_type": "markdown",
   "metadata": {},
   "source": [
    "### User - based Recommendation System"
   ]
  },
  {
   "cell_type": "code",
   "execution_count": 38,
   "metadata": {},
   "outputs": [],
   "source": [
    "#This function finds k similar users given the user_id and ratings matrix \n",
    "\n",
    "def findksimilarusers(user_id, ratings, metric = metric, k=k):\n",
    "    similarities=[]\n",
    "    indices=[]\n",
    "    model_knn = NearestNeighbors(metric = metric, algorithm = 'brute') \n",
    "    model_knn.fit(ratings)\n",
    "    loc = ratings.index.get_loc(user_id)\n",
    "    \n",
    "    # `loc` position user, checking top 10 rating among all the books\n",
    "    distances, indices = model_knn.kneighbors(ratings.iloc[loc, :].values.reshape(1, -1), n_neighbors = k)\n",
    "    \n",
    "    similarities = 1-distances.flatten()\n",
    "    return similarities,indices"
   ]
  },
  {
   "cell_type": "code",
   "execution_count": 39,
   "metadata": {},
   "outputs": [],
   "source": [
    "# compute the actual mean \n",
    "\n",
    "def find_actual_mean(series) :\n",
    "    \n",
    "    n = 0\n",
    "    sum = 0\n",
    "    \n",
    "    for i in series:\n",
    "        if (i != 0):\n",
    "            sum = sum + i\n",
    "            n=n+1\n",
    "            \n",
    "    return sum/n"
   ]
  },
  {
   "cell_type": "code",
   "execution_count": 40,
   "metadata": {},
   "outputs": [],
   "source": [
    "import random\n",
    "\n",
    "#This function predicts rating for specified user-item combination based on user-based approach\n",
    "\n",
    "def predict_userbased(user_id, item_id, ratings, metric = metric, k=k):\n",
    "    prediction=0\n",
    "    user_loc = ratings.index.get_loc(user_id)\n",
    "    item_loc = ratings.columns.get_loc(item_id)\n",
    "    similarities, indices=findksimilarusers(user_id, ratings,metric, k) #similar users based on cosine similarity\n",
    "    \n",
    "    #mean_rating = ratings.iloc[user_loc,:].mean() #to adjust for zero based indexing\n",
    "    mean_rating = find_actual_mean(ratings.iloc[user_loc,:])\n",
    "    #print(mean_rating)\n",
    "    sum_wt = np.sum(similarities)-1\n",
    "    product=1\n",
    "    wtd_sum = 0 \n",
    "    \n",
    "    for i in range(0, len(indices.flatten())):\n",
    "        if indices.flatten()[i] == user_loc:\n",
    "            continue;\n",
    "        else: \n",
    "            #print(ratings.iloc[indices.flatten()[i],:])\n",
    "            #print(find_actual_mean(ratings.iloc[indices.flatten()[i],:]))\n",
    "            if (ratings.iloc[indices.flatten()[i],item_loc] == 0):\n",
    "                ratings_diff = random.randint(1,10)-find_actual_mean(ratings.iloc[indices.flatten()[i],:])\n",
    "            else :\n",
    "                ratings_diff = ratings.iloc[indices.flatten()[i],item_loc]-find_actual_mean(ratings.iloc[indices.flatten()[i],:])\n",
    "            \n",
    "            #print(ratings_diff)\n",
    "            product = ratings_diff * (similarities[i])\n",
    "            wtd_sum = wtd_sum + product\n",
    "    \n",
    "    prediction = int(round(mean_rating + (wtd_sum/sum_wt)))\n",
    "    \n",
    "    if prediction <= 0:\n",
    "        prediction = 1   \n",
    "    elif prediction > 10:\n",
    "        prediction = 10\n",
    "    \n",
    "    print('\\nPredicted rating for user {0} -> item {1}: {2}'.format(user_id,item_id,prediction))\n",
    "\n",
    "    return prediction"
   ]
  },
  {
   "cell_type": "code",
   "execution_count": 41,
   "metadata": {},
   "outputs": [
    {
     "name": "stdout",
     "output_type": "stream",
     "text": [
      "\n",
      "Predicted rating for user 277427 -> item 0002000547: 4\n"
     ]
    },
    {
     "data": {
      "text/plain": [
       "4"
      ]
     },
     "execution_count": 41,
     "metadata": {},
     "output_type": "execute_result"
    }
   ],
   "source": [
    "predict_userbased(277427,'0002000547',ratings_matrix)"
   ]
  },
  {
   "cell_type": "markdown",
   "metadata": {},
   "source": [
    "### Item - based Recommendation System"
   ]
  },
  {
   "cell_type": "code",
   "execution_count": 42,
   "metadata": {},
   "outputs": [],
   "source": [
    "# This function finds k similar items given the item_id and ratings matrix\n",
    "\n",
    "def findksimilaritems(item_id, ratings, metric=metric, k=k):\n",
    "    similarities=[]\n",
    "    indices=[]\n",
    "    ratings=ratings.T\n",
    "    loc = ratings.index.get_loc(item_id)\n",
    "    # print(loc)\n",
    "    # print(item_id)\n",
    "    \n",
    "    model_knn = NearestNeighbors(metric = metric, algorithm = 'brute')\n",
    "    model_knn.fit(ratings)\n",
    "    \n",
    "    # `loc` position item\n",
    "    distances, indices = model_knn.kneighbors(ratings.iloc[loc, :].values.reshape(1, -1), n_neighbors = k)\n",
    "    similarities = 1-distances.flatten()\n",
    "\n",
    "    return similarities,indices"
   ]
  },
  {
   "cell_type": "code",
   "execution_count": 43,
   "metadata": {},
   "outputs": [
    {
     "name": "stdout",
     "output_type": "stream",
     "text": [
      "[1.         0.99227788 0.87811408 0.73582366 0.70710678 0.70710678\n",
      " 0.70710678 0.70710678 0.70710678 0.70710678]\n",
      "[[    4 47254 36887  1606 24239 39197 27004 24238 24254 30911]]\n"
     ]
    }
   ],
   "source": [
    "similarities,indices=findksimilaritems('0001056107',ratings_matrix)\n",
    "print(similarities)\n",
    "print(indices)"
   ]
  },
  {
   "cell_type": "code",
   "execution_count": 44,
   "metadata": {},
   "outputs": [],
   "source": [
    "#This function predicts the rating for specified user-item combination based on item-based approach\n",
    "\n",
    "def predict_itembased(user_id, item_id, ratings, metric = metric, k=k):\n",
    "    prediction= wtd_sum =0\n",
    "    \n",
    "    user_loc = ratings.index.get_loc(user_id)\n",
    "    print(user_loc)\n",
    "    item_loc = ratings.columns.get_loc(item_id)\n",
    "    print(item_loc)\n",
    "    similarities, indices=findksimilaritems(item_id, ratings) #similar users based on correlation coefficients\n",
    "    print(similarities)\n",
    "    print(indices)\n",
    "    \n",
    "    sum_wt = np.sum(similarities)-1\n",
    "    product=1\n",
    "    \n",
    "    for i in range(0, len(indices.flatten())):\n",
    "        if indices.flatten()[i] == item_loc:\n",
    "            continue;\n",
    "        else:\n",
    "            if (ratings.iloc[user_loc,indices.flatten()[i]] == 0):\n",
    "                product = random.randint(1,10) * similarities[i]\n",
    "            else :\n",
    "                product = ratings.iloc[user_loc,indices.flatten()[i]] * similarities[i]\n",
    "            \n",
    "            wtd_sum = wtd_sum + product                                    \n",
    "    \n",
    "    #print((ratings.iloc[user_loc,indices.flatten()]))\n",
    "    #print(wtd_sum)\n",
    "    #print(sum_wt)\n",
    "    #print(similarities)\n",
    "    prediction = int(round(wtd_sum/sum_wt))\n",
    "    \n",
    "    if prediction <= 0:\n",
    "        prediction = 1   \n",
    "    elif prediction >10:\n",
    "        prediction = 10\n",
    "\n",
    "    print('\\nPredicted rating for user {0} -> item {1}: {2}'.format(user_id,item_id,prediction))      \n",
    "    \n",
    "    return prediction"
   ]
  },
  {
   "cell_type": "code",
   "execution_count": 45,
   "metadata": {},
   "outputs": [
    {
     "name": "stdout",
     "output_type": "stream",
     "text": [
      "352\n",
      "4\n",
      "[1.         0.99227788 0.87811408 0.73582366 0.70710678 0.70710678\n",
      " 0.70710678 0.70710678 0.70710678 0.70710678]\n",
      "[[    4 47254 36887  1606 24239 39197 27004 24238 24254 30911]]\n",
      "\n",
      "Predicted rating for user 277427 -> item 0001056107: 6\n"
     ]
    }
   ],
   "source": [
    "prediction = predict_itembased(277427,'0001056107',ratings_matrix)"
   ]
  },
  {
   "cell_type": "code",
   "execution_count": 46,
   "metadata": {},
   "outputs": [],
   "source": [
    "#This function utilizes above functions to recommend items for item/user based approach and cosine/correlation. \n",
    "#Recommendations are made if the predicted rating for an item is >= to 6,and the items have not been rated already\n",
    "\n",
    "def recommendItem(user_id, ratings, metric=metric):    \n",
    "    if (user_id not in ratings.index.values) or type(user_id) is not int:\n",
    "        \n",
    "        print(\"User id should be a valid integer from this list :\\n\\n {} \"\n",
    "              .format(re.sub('[\\[\\]]', '', np.array_str(ratings_matrix.index.values))))\n",
    "    \n",
    "    else:    \n",
    "        ids = ['None',\n",
    "               'Item-based (correlation)', \n",
    "               'Item-based (cosine)',\n",
    "               'User-based (correlation)',\n",
    "               'User-based (cosine)']\n",
    "        \n",
    "        select = widgets.Dropdown(options=ids, value=ids[0],description='Approach ', width='500px')\n",
    "        \n",
    "        def on_change(change):\n",
    "            \n",
    "            #clear_output(wait=True)\n",
    "            prediction = []            \n",
    "            \n",
    "            if change['type'] == 'change' and change['name'] == 'value':            \n",
    "                if (select.value == 'Item-based (correlation)') | (select.value == 'User-based (correlation)') :\n",
    "                    metric = 'correlation'\n",
    "                else:                       \n",
    "                    metric = 'cosine'   \n",
    "                \n",
    "                with suppress_stdout():\n",
    "                    if (select.value == 'Item-based (correlation)') | (select.value == 'Item-based (cosine)'):\n",
    "                        for i in range(ratings.shape[1]):\n",
    "                            if (ratings[str(ratings.columns[i])][user_id] !=0): # rated already\n",
    "                                print(ratings.columns[i])\n",
    "                                prediction.append(predict_itembased(user_id, str(ratings.columns[i]) ,ratings, metric))\n",
    "                    else:\n",
    "                        for i in range(ratings.shape[1]):\n",
    "                            if (ratings[str(ratings.columns[i])][user_id] !=0): # rated already\n",
    "                                prediction.append(predict_userbased(user_id, str(ratings.columns[i]) ,ratings, metric))\n",
    "                                \n",
    "                prediction = pd.Series(prediction)\n",
    "                prediction = prediction.sort_values(ascending=False)\n",
    "                \n",
    "                recommended = prediction[:10]\n",
    "                \n",
    "                print(\"As per {0} approach, Following books are recommended, \".format(select.value))\n",
    "                \n",
    "                for i in range(len(recommended)):\n",
    "                     print(\"{0}. {1}\".format(i+1,books.book_title[recommended.index[i]].encode('utf-8')))                        \n",
    "        \n",
    "        select.observe(on_change)\n",
    "        display(select)"
   ]
  },
  {
   "cell_type": "code",
   "execution_count": 47,
   "metadata": {},
   "outputs": [
    {
     "name": "stdout",
     "output_type": "stream",
     "text": [
      "User id should be a valid integer from this list :\n",
      "\n",
      "   2033   2276   4017   4385   5582   6251   6543   7286   7346   8067\n",
      "   8245   8681   8890  10560  11993  12538  12824  12982  13552  13850\n",
      "  15408  15418  16634  16795  16966  17950  19085  23768  23872  25409\n",
      "  25601  26535  26544  28591  28634  29259  30276  30711  31315  31556\n",
      "  31826  32773  33145  35433  35836  35857  36299  36554  36606  36609\n",
      "  36836  36907  37644  37712  38023  38281  39281  39467  40889  40943\n",
      "  43246  43910  46398  48025  48494  49144  51883  52199  52350  52584\n",
      "  52614  52917  53220  55187  55490  55492  56271  56399  56447  56554\n",
      "  56959  59172  60244  60337  60707  63714  63956  65258  66942  67840\n",
      "  69078  69389  69697  70415  70594  70666  72352  73681  75591  76151\n",
      "  76223  76626  78553  78783  78834  78973  79441  81492  83287  83637\n",
      "  83671  85526  85656  86947  87555  88283  88677  88693  91113  92652\n",
      "  92810  93047  93363  93629  94242  94347  94853  94951  95359  95902\n",
      "  95932  97754  98391  98758 100459 100906 101209 101606 101851 102647\n",
      " 102702 102967 104399 105028 105517 105979 106007 109574 109901 110483\n",
      " 110912 110934 110973 112001 113270 114368 114868 114988 115003 116599\n",
      " 117384 120565 122429 122793 123094 123608 123883 123981 125519 125774\n",
      " 126492 126736 127359 128835 129074 129716 129851 132836 133747 134434\n",
      " 135265 136348 138578 138844 141902 142524 143175 143253 143415 148199\n",
      " 148744 148966 149907 149908 150979 153662 156150 156269 156300 156467\n",
      " 157247 157273 158226 159506 160295 162052 162738 163759 163761 163804\n",
      " 163973 164096 164323 164533 164905 165308 165319 166123 166596 168047\n",
      " 168245 169682 171118 172030 172742 172888 173291 173415 174304 177072\n",
      " 177432 177458 179718 179978 180378 180651 181176 182993 183958 183995\n",
      " 184299 184532 185233 187145 187517 189139 189334 190708 190925 193458\n",
      " 193560 194600 196077 196160 196502 197659 199416 200226 201290 203240\n",
      " 204864 205735 205943 207782 208406 209516 210485 211426 211919 212965\n",
      " 216012 216444 217106 217740 218552 218608 219546 219683 222204 224349\n",
      " 224525 225087 225199 225595 226965 227250 227447 227520 227705 229329\n",
      " 229551 229741 230522 231210 232945 233911 234359 235105 235282 235935\n",
      " 236058 236283 236340 236948 239594 240144 240403 240543 240567 240568\n",
      " 241666 241980 242006 242083 242409 242465 244627 245410 246311 247429\n",
      " 247447 248718 250405 251394 251844 252820 254206 254465 254899 257204\n",
      " 258152 258185 258534 261105 261829 264031 264082 264321 264525 265313\n",
      " 265889 266056 268300 268932 269566 270713 271448 271705 273113 274061\n",
      " 274301 275970 277427 \n",
      "None\n"
     ]
    }
   ],
   "source": [
    "# checking for incorrect entries\n",
    "\n",
    "print(recommendItem(999999,ratings_matrix))"
   ]
  },
  {
   "cell_type": "code",
   "execution_count": 52,
   "metadata": {},
   "outputs": [
    {
     "data": {
      "application/vnd.jupyter.widget-view+json": {
       "model_id": "0f7d48673a204592924d2954a984119c",
       "version_major": 2,
       "version_minor": 0
      },
      "text/plain": [
       "Dropdown(description='Approach ', options=('None', 'Item-based (correlation)', 'Item-based (cosine)', 'User-ba…"
      ]
     },
     "metadata": {},
     "output_type": "display_data"
    },
    {
     "name": "stdout",
     "output_type": "stream",
     "text": [
      "As per Item-based (correlation) approach, Following books are recommended, \n",
      "1. b'Memoirs of a Geisha'\n",
      "2. b'The Dragons of Eden: Speculations on the Evolution of Human Intelligence'\n",
      "3. b'My First Cousin Once Removed: Money, Madness, and the Family of Robert Lowell'\n",
      "4. b'Modern Manners: An Etiquette Book for Rude People'\n",
      "5. b'Prescription for Terror'\n",
      "6. b\"Anil's Ghost\"\n",
      "7. b'The Ruby in the Smoke (Sally Lockhart Trilogy, Book 1)'\n",
      "8. b'Starship Troopers'\n",
      "9. b\"Life's Little Instruction Book (Life's Little Instruction Books (Paperback))\"\n",
      "10. b'The Prince'\n"
     ]
    }
   ],
   "source": [
    "recommendItem(274061, ratings_matrix)"
   ]
  },
  {
   "cell_type": "code",
   "execution_count": 53,
   "metadata": {},
   "outputs": [
    {
     "data": {
      "application/vnd.jupyter.widget-view+json": {
       "model_id": "559381fc0237421183cb68b761afac5e",
       "version_major": 2,
       "version_minor": 0
      },
      "text/plain": [
       "Dropdown(description='Approach ', options=('None', 'Item-based (correlation)', 'Item-based (cosine)', 'User-ba…"
      ]
     },
     "metadata": {},
     "output_type": "display_data"
    },
    {
     "name": "stdout",
     "output_type": "stream",
     "text": [
      "As per Item-based (cosine) approach, Following books are recommended, \n",
      "1. b'Memoirs of a Geisha'\n",
      "2. b'Slow Waltz in Cedar Bend'\n",
      "3. b'El Senor De Los Anillos: LA Comunidad Del Anillo (Lord of the Rings (Spanish))'\n",
      "4. b'The Catcher in the Rye'\n",
      "5. b'My First Cousin Once Removed: Money, Madness, and the Family of Robert Lowell'\n",
      "6. b'Modern Manners: An Etiquette Book for Rude People'\n",
      "7. b'Prescription for Terror'\n",
      "8. b\"Anil's Ghost\"\n",
      "9. b'The Ruby in the Smoke (Sally Lockhart Trilogy, Book 1)'\n",
      "10. b'Starship Troopers'\n"
     ]
    }
   ],
   "source": [
    "recommendItem(274061, ratings_matrix)"
   ]
  },
  {
   "cell_type": "code",
   "execution_count": 54,
   "metadata": {},
   "outputs": [
    {
     "data": {
      "application/vnd.jupyter.widget-view+json": {
       "model_id": "9705a33b10bb470597eca632adaeef2a",
       "version_major": 2,
       "version_minor": 0
      },
      "text/plain": [
       "Dropdown(description='Approach ', options=('None', 'Item-based (correlation)', 'Item-based (cosine)', 'User-ba…"
      ]
     },
     "metadata": {},
     "output_type": "display_data"
    },
    {
     "name": "stdout",
     "output_type": "stream",
     "text": [
      "As per User-based (correlation) approach, Following books are recommended, \n",
      "1. b'Rich Dad, Poor Dad: What the Rich Teach Their Kids About Money--That the Poor and Middle Class Do Not!'\n",
      "2. b'This Year It Will Be Different: And Other Stories'\n",
      "3. b'Prague : A Novel'\n",
      "4. b'Relics (Star Trek: The Next Generation)'\n",
      "5. b'The Catswold Portal'\n",
      "6. b'Das B\\xc3\\x83?\\xc3\\x82\\xc2\\xb6se kommt auf leisen Sohlen.'\n",
      "7. b'Female Intelligence'\n",
      "8. b\"Pasquale's Nose: Idle Days in an Italian Town\"\n",
      "9. b\"Corelli's Mandolin : A Novel\"\n",
      "10. b'Black Beauty (Illustrated Classics)'\n"
     ]
    }
   ],
   "source": [
    "recommendItem(274061, ratings_matrix)"
   ]
  },
  {
   "cell_type": "code",
   "execution_count": 55,
   "metadata": {},
   "outputs": [
    {
     "data": {
      "application/vnd.jupyter.widget-view+json": {
       "model_id": "2e94ef95859942719b8c3c893caf2dc5",
       "version_major": 2,
       "version_minor": 0
      },
      "text/plain": [
       "Dropdown(description='Approach ', options=('None', 'Item-based (correlation)', 'Item-based (cosine)', 'User-ba…"
      ]
     },
     "metadata": {},
     "output_type": "display_data"
    },
    {
     "name": "stdout",
     "output_type": "stream",
     "text": [
      "As per User-based (cosine) approach, Following books are recommended, \n",
      "1. b'The Soulbane Stratagem'\n",
      "2. b'Private Screening'\n",
      "3. b'Seabiscuit'\n",
      "4. b\"Prize Stories, 1987: The O'Henry Awards\"\n",
      "5. b'The Catswold Portal'\n",
      "6. b'Cybill Disobedience: How I Survived Beauty Pageants, Elvis, Sex, Bruce Willis, Lies, Marriage, Motherhood, Hollywood, and the Irrepressible Urge to Say What I Think'\n",
      "7. b'Lying Awake'\n",
      "8. b\"Through Wolf's Eyes (Wolf)\"\n",
      "9. b'Sturmzeit. Roman.'\n",
      "10. b'Every Breath You Take : A True Story of Obsession, Revenge, and Murder'\n"
     ]
    }
   ],
   "source": [
    "recommendItem(274061, ratings_matrix)"
   ]
  },
  {
   "cell_type": "code",
   "execution_count": null,
   "metadata": {},
   "outputs": [],
   "source": []
  }
 ],
 "metadata": {
  "kernelspec": {
   "display_name": "Python 3",
   "language": "python",
   "name": "python3"
  },
  "language_info": {
   "codemirror_mode": {
    "name": "ipython",
    "version": 3
   },
   "file_extension": ".py",
   "mimetype": "text/x-python",
   "name": "python",
   "nbconvert_exporter": "python",
   "pygments_lexer": "ipython3",
   "version": "3.6.5"
  }
 },
 "nbformat": 4,
 "nbformat_minor": 2
}
